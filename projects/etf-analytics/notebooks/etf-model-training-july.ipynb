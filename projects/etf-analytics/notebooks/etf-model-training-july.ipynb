{
 "cells": [
  {
   "cell_type": "markdown",
   "id": "b71194da",
   "metadata": {
    "papermill": {
     "duration": 0.007557,
     "end_time": "2024-07-15T16:14:38.289860",
     "exception": false,
     "start_time": "2024-07-15T16:14:38.282303",
     "status": "completed"
    },
    "tags": []
   },
   "source": [
    "# Load ETF Overview"
   ]
  },
  {
   "cell_type": "code",
   "execution_count": 1,
   "id": "bf063708",
   "metadata": {
    "execution": {
     "iopub.execute_input": "2024-07-15T16:14:38.305957Z",
     "iopub.status.busy": "2024-07-15T16:14:38.305567Z",
     "iopub.status.idle": "2024-07-15T16:15:00.139987Z",
     "shell.execute_reply": "2024-07-15T16:15:00.138278Z"
    },
    "papermill": {
     "duration": 21.846374,
     "end_time": "2024-07-15T16:15:00.143482",
     "exception": false,
     "start_time": "2024-07-15T16:14:38.297108",
     "status": "completed"
    },
    "tags": []
   },
   "outputs": [],
   "source": [
    "! pip install etfpy ta pmdarima -q"
   ]
  },
  {
   "cell_type": "code",
   "execution_count": 2,
   "id": "2d09e33d",
   "metadata": {
    "_cell_guid": "b1076dfc-b9ad-4769-8c92-a6c4dae69d19",
    "_uuid": "8f2839f25d086af736a60e9eeb907d3b93b6e0e5",
    "execution": {
     "iopub.execute_input": "2024-07-15T16:15:00.160529Z",
     "iopub.status.busy": "2024-07-15T16:15:00.160001Z",
     "iopub.status.idle": "2024-07-15T16:15:03.296718Z",
     "shell.execute_reply": "2024-07-15T16:15:03.295459Z"
    },
    "papermill": {
     "duration": 3.149361,
     "end_time": "2024-07-15T16:15:03.300022",
     "exception": false,
     "start_time": "2024-07-15T16:15:00.150661",
     "status": "completed"
    },
    "tags": []
   },
   "outputs": [],
   "source": [
    "import numpy as np\n",
    "import pandas as pd\n",
    "\n",
    "import ta\n",
    "from etfpy import ETF, load_etf, get_available_etfs_list\n",
    "\n",
    "import matplotlib.pyplot as plt\n",
    "import seaborn as sns\n",
    "\n",
    "import warnings \n",
    "warnings.filterwarnings('ignore')\n",
    "\n",
    "import logging \n",
    "logger = logging.getLogger() \n",
    "logger.setLevel(logging.CRITICAL)"
   ]
  },
  {
   "cell_type": "markdown",
   "id": "6794bdab",
   "metadata": {
    "papermill": {
     "duration": 0.006735,
     "end_time": "2024-07-15T16:15:03.313860",
     "exception": false,
     "start_time": "2024-07-15T16:15:03.307125",
     "status": "completed"
    },
    "tags": []
   },
   "source": [
    "# Get Specific ETF Data"
   ]
  },
  {
   "cell_type": "code",
   "execution_count": 3,
   "id": "deff8d69",
   "metadata": {
    "execution": {
     "iopub.execute_input": "2024-07-15T16:15:03.330083Z",
     "iopub.status.busy": "2024-07-15T16:15:03.329495Z",
     "iopub.status.idle": "2024-07-15T16:15:04.334681Z",
     "shell.execute_reply": "2024-07-15T16:15:04.333346Z"
    },
    "papermill": {
     "duration": 1.01685,
     "end_time": "2024-07-15T16:15:04.337890",
     "exception": false,
     "start_time": "2024-07-15T16:15:03.321040",
     "status": "completed"
    },
    "tags": []
   },
   "outputs": [],
   "source": [
    "spy = ETF(\"SPY\")\n",
    "spy_tabular = spy.to_tabular()\n",
    "data = spy_tabular.get_quotes(interval=\"daily\", periods=365*40)"
   ]
  },
  {
   "cell_type": "code",
   "execution_count": 4,
   "id": "ca1b09b5",
   "metadata": {
    "execution": {
     "iopub.execute_input": "2024-07-15T16:15:04.353983Z",
     "iopub.status.busy": "2024-07-15T16:15:04.353572Z",
     "iopub.status.idle": "2024-07-15T16:15:04.363161Z",
     "shell.execute_reply": "2024-07-15T16:15:04.361596Z"
    },
    "papermill": {
     "duration": 0.020665,
     "end_time": "2024-07-15T16:15:04.365790",
     "exception": false,
     "start_time": "2024-07-15T16:15:04.345125",
     "status": "completed"
    },
    "tags": []
   },
   "outputs": [],
   "source": [
    "data[\"date\"] = pd.to_datetime(data.date)"
   ]
  },
  {
   "cell_type": "markdown",
   "id": "5a55d576",
   "metadata": {
    "papermill": {
     "duration": 0.006584,
     "end_time": "2024-07-15T16:15:04.379458",
     "exception": false,
     "start_time": "2024-07-15T16:15:04.372874",
     "status": "completed"
    },
    "tags": []
   },
   "source": [
    "# Feature Engineering\n",
    "\n",
    "* Moving Averages (SMA_20 and SMA_50): Simple Moving Averages over 20 and 50 days.\n",
    "* RSI (Relative Strength Index): Momentum oscillator that measures the speed and change of price movements.\n",
    "* MACD (Moving Average Convergence Divergence): A trend-following momentum indicator that shows the relationship between two moving averages of a security’s price.\n",
    "* Bollinger Bands: Consist of a middle band (20-day SMA) and two outer bands (standard deviations above and below the SMA)."
   ]
  },
  {
   "cell_type": "code",
   "execution_count": 5,
   "id": "74bd951c",
   "metadata": {
    "execution": {
     "iopub.execute_input": "2024-07-15T16:15:04.395325Z",
     "iopub.status.busy": "2024-07-15T16:15:04.394888Z",
     "iopub.status.idle": "2024-07-15T16:15:04.423509Z",
     "shell.execute_reply": "2024-07-15T16:15:04.422285Z"
    },
    "papermill": {
     "duration": 0.040235,
     "end_time": "2024-07-15T16:15:04.426692",
     "exception": false,
     "start_time": "2024-07-15T16:15:04.386457",
     "status": "completed"
    },
    "tags": []
   },
   "outputs": [],
   "source": [
    "# Calculate Moving Averages\n",
    "data['SMA_20'] = data['close'].rolling(window=20).mean()\n",
    "data['SMA_50'] = data['close'].rolling(window=50).mean()\n",
    "\n",
    "# Calculate RSI\n",
    "data['RSI'] = ta.momentum.rsi(data['close'], window=14)\n",
    "\n",
    "# Calculate MACD\n",
    "data['MACD'] = ta.trend.macd(data['close'])\n",
    "data['MACD_Signal'] = ta.trend.macd_signal(data['close'])\n",
    "data['MACD_Diff'] = ta.trend.macd_diff(data['close'])\n",
    "\n",
    "# Calculate Bollinger Bands\n",
    "bollinger = ta.volatility.BollingerBands(close=data['close'], window=20, window_dev=2)\n",
    "data['BB_High'] = bollinger.bollinger_hband()\n",
    "data['BB_Low'] = bollinger.bollinger_lband()\n",
    "data['BB_Mid'] = bollinger.bollinger_mavg()"
   ]
  },
  {
   "cell_type": "code",
   "execution_count": 6,
   "id": "5b2764f5",
   "metadata": {
    "execution": {
     "iopub.execute_input": "2024-07-15T16:15:04.442974Z",
     "iopub.status.busy": "2024-07-15T16:15:04.442514Z",
     "iopub.status.idle": "2024-07-15T16:15:04.468195Z",
     "shell.execute_reply": "2024-07-15T16:15:04.466872Z"
    },
    "papermill": {
     "duration": 0.037615,
     "end_time": "2024-07-15T16:15:04.471441",
     "exception": false,
     "start_time": "2024-07-15T16:15:04.433826",
     "status": "completed"
    },
    "tags": []
   },
   "outputs": [
    {
     "data": {
      "text/html": [
       "<div>\n",
       "<style scoped>\n",
       "    .dataframe tbody tr th:only-of-type {\n",
       "        vertical-align: middle;\n",
       "    }\n",
       "\n",
       "    .dataframe tbody tr th {\n",
       "        vertical-align: top;\n",
       "    }\n",
       "\n",
       "    .dataframe thead th {\n",
       "        text-align: right;\n",
       "    }\n",
       "</style>\n",
       "<table border=\"1\" class=\"dataframe\">\n",
       "  <thead>\n",
       "    <tr style=\"text-align: right;\">\n",
       "      <th></th>\n",
       "      <th>symbol</th>\n",
       "      <th>date</th>\n",
       "      <th>open</th>\n",
       "      <th>high</th>\n",
       "      <th>low</th>\n",
       "      <th>close</th>\n",
       "      <th>volume</th>\n",
       "      <th>SMA_20</th>\n",
       "      <th>SMA_50</th>\n",
       "      <th>RSI</th>\n",
       "      <th>MACD</th>\n",
       "      <th>MACD_Signal</th>\n",
       "      <th>MACD_Diff</th>\n",
       "      <th>BB_High</th>\n",
       "      <th>BB_Low</th>\n",
       "      <th>BB_Mid</th>\n",
       "    </tr>\n",
       "  </thead>\n",
       "  <tbody>\n",
       "    <tr>\n",
       "      <th>7915</th>\n",
       "      <td>SPY</td>\n",
       "      <td>2024-07-09</td>\n",
       "      <td>556.26</td>\n",
       "      <td>557.18</td>\n",
       "      <td>555.52</td>\n",
       "      <td>555.82</td>\n",
       "      <td>27314125</td>\n",
       "      <td>546.08</td>\n",
       "      <td>531.89</td>\n",
       "      <td>75.72</td>\n",
       "      <td>6.20</td>\n",
       "      <td>5.82</td>\n",
       "      <td>0.37</td>\n",
       "      <td>556.62</td>\n",
       "      <td>535.53</td>\n",
       "      <td>546.08</td>\n",
       "    </tr>\n",
       "    <tr>\n",
       "      <th>7916</th>\n",
       "      <td>SPY</td>\n",
       "      <td>2024-07-10</td>\n",
       "      <td>557.07</td>\n",
       "      <td>561.67</td>\n",
       "      <td>556.77</td>\n",
       "      <td>561.32</td>\n",
       "      <td>38701200</td>\n",
       "      <td>547.36</td>\n",
       "      <td>532.95</td>\n",
       "      <td>80.04</td>\n",
       "      <td>6.69</td>\n",
       "      <td>6.00</td>\n",
       "      <td>0.70</td>\n",
       "      <td>558.73</td>\n",
       "      <td>535.98</td>\n",
       "      <td>547.36</td>\n",
       "    </tr>\n",
       "    <tr>\n",
       "      <th>7917</th>\n",
       "      <td>SPY</td>\n",
       "      <td>2024-07-11</td>\n",
       "      <td>561.44</td>\n",
       "      <td>562.33</td>\n",
       "      <td>555.83</td>\n",
       "      <td>556.48</td>\n",
       "      <td>53054100</td>\n",
       "      <td>548.34</td>\n",
       "      <td>533.88</td>\n",
       "      <td>68.49</td>\n",
       "      <td>6.62</td>\n",
       "      <td>6.12</td>\n",
       "      <td>0.50</td>\n",
       "      <td>559.31</td>\n",
       "      <td>537.36</td>\n",
       "      <td>548.34</td>\n",
       "    </tr>\n",
       "    <tr>\n",
       "      <th>7918</th>\n",
       "      <td>SPY</td>\n",
       "      <td>2024-07-12</td>\n",
       "      <td>557.63</td>\n",
       "      <td>563.67</td>\n",
       "      <td>557.15</td>\n",
       "      <td>559.99</td>\n",
       "      <td>53084400</td>\n",
       "      <td>549.27</td>\n",
       "      <td>535.04</td>\n",
       "      <td>71.68</td>\n",
       "      <td>6.77</td>\n",
       "      <td>6.25</td>\n",
       "      <td>0.52</td>\n",
       "      <td>560.86</td>\n",
       "      <td>537.67</td>\n",
       "      <td>549.27</td>\n",
       "    </tr>\n",
       "    <tr>\n",
       "      <th>7919</th>\n",
       "      <td>SPY</td>\n",
       "      <td>2024-07-15</td>\n",
       "      <td>562.03</td>\n",
       "      <td>564.84</td>\n",
       "      <td>561.39</td>\n",
       "      <td>563.54</td>\n",
       "      <td>13626089</td>\n",
       "      <td>550.32</td>\n",
       "      <td>536.31</td>\n",
       "      <td>74.49</td>\n",
       "      <td>7.09</td>\n",
       "      <td>6.42</td>\n",
       "      <td>0.67</td>\n",
       "      <td>563.03</td>\n",
       "      <td>537.61</td>\n",
       "      <td>550.32</td>\n",
       "    </tr>\n",
       "  </tbody>\n",
       "</table>\n",
       "</div>"
      ],
      "text/plain": [
       "     symbol       date   open   high    low  close    volume  SMA_20  SMA_50  \\\n",
       "7915    SPY 2024-07-09 556.26 557.18 555.52 555.82  27314125  546.08  531.89   \n",
       "7916    SPY 2024-07-10 557.07 561.67 556.77 561.32  38701200  547.36  532.95   \n",
       "7917    SPY 2024-07-11 561.44 562.33 555.83 556.48  53054100  548.34  533.88   \n",
       "7918    SPY 2024-07-12 557.63 563.67 557.15 559.99  53084400  549.27  535.04   \n",
       "7919    SPY 2024-07-15 562.03 564.84 561.39 563.54  13626089  550.32  536.31   \n",
       "\n",
       "       RSI  MACD  MACD_Signal  MACD_Diff  BB_High  BB_Low  BB_Mid  \n",
       "7915 75.72  6.20         5.82       0.37   556.62  535.53  546.08  \n",
       "7916 80.04  6.69         6.00       0.70   558.73  535.98  547.36  \n",
       "7917 68.49  6.62         6.12       0.50   559.31  537.36  548.34  \n",
       "7918 71.68  6.77         6.25       0.52   560.86  537.67  549.27  \n",
       "7919 74.49  7.09         6.42       0.67   563.03  537.61  550.32  "
      ]
     },
     "execution_count": 6,
     "metadata": {},
     "output_type": "execute_result"
    }
   ],
   "source": [
    "data.tail()"
   ]
  },
  {
   "cell_type": "markdown",
   "id": "7a1636df",
   "metadata": {
    "papermill": {
     "duration": 0.007239,
     "end_time": "2024-07-15T16:15:04.486640",
     "exception": false,
     "start_time": "2024-07-15T16:15:04.479401",
     "status": "completed"
    },
    "tags": []
   },
   "source": [
    "# Train-Test Split"
   ]
  },
  {
   "cell_type": "code",
   "execution_count": 7,
   "id": "3141b9af",
   "metadata": {
    "execution": {
     "iopub.execute_input": "2024-07-15T16:15:04.503836Z",
     "iopub.status.busy": "2024-07-15T16:15:04.503435Z",
     "iopub.status.idle": "2024-07-15T16:15:04.521004Z",
     "shell.execute_reply": "2024-07-15T16:15:04.519538Z"
    },
    "papermill": {
     "duration": 0.029553,
     "end_time": "2024-07-15T16:15:04.524088",
     "exception": false,
     "start_time": "2024-07-15T16:15:04.494535",
     "status": "completed"
    },
    "tags": []
   },
   "outputs": [
    {
     "data": {
      "text/plain": [
       "(6780, 1140)"
      ]
     },
     "execution_count": 7,
     "metadata": {},
     "output_type": "execute_result"
    }
   ],
   "source": [
    "mask = (data['date'] > '2020-01-01')\n",
    "\n",
    "train = data.loc[~mask]\n",
    "test = data.loc[mask]\n",
    "\n",
    "train_size = len(train)\n",
    "test_size = len(test)\n",
    "\n",
    "train_size, test_size"
   ]
  },
  {
   "cell_type": "markdown",
   "id": "1070469a",
   "metadata": {
    "papermill": {
     "duration": 0.007527,
     "end_time": "2024-07-15T16:15:04.539521",
     "exception": false,
     "start_time": "2024-07-15T16:15:04.531994",
     "status": "completed"
    },
    "tags": []
   },
   "source": [
    "# Model Training\n",
    "\n",
    "Choose a Model: Several models can be used for time series forecasting, including:\n",
    "* ARIMA/SARIMA: Good for linear time series data.\n",
    "* Exponential Smoothing (ETS): Simple and efficient for trend and seasonality.\n",
    "* LSTM/GRU (Neural Networks): Capable of capturing complex patterns.\n",
    "* Prophet (by Facebook): User-friendly and handles seasonality well."
   ]
  },
  {
   "cell_type": "markdown",
   "id": "ac1b7466",
   "metadata": {
    "papermill": {
     "duration": 0.007186,
     "end_time": "2024-07-15T16:15:04.554288",
     "exception": false,
     "start_time": "2024-07-15T16:15:04.547102",
     "status": "completed"
    },
    "tags": []
   },
   "source": [
    "## ARIMA Model"
   ]
  },
  {
   "cell_type": "code",
   "execution_count": 8,
   "id": "52295f25",
   "metadata": {
    "execution": {
     "iopub.execute_input": "2024-07-15T16:15:04.571124Z",
     "iopub.status.busy": "2024-07-15T16:15:04.570723Z",
     "iopub.status.idle": "2024-07-15T16:15:05.126912Z",
     "shell.execute_reply": "2024-07-15T16:15:05.125704Z"
    },
    "papermill": {
     "duration": 0.568142,
     "end_time": "2024-07-15T16:15:05.129943",
     "exception": false,
     "start_time": "2024-07-15T16:15:04.561801",
     "status": "completed"
    },
    "tags": []
   },
   "outputs": [],
   "source": [
    "from statsmodels.tsa.arima.model import ARIMA"
   ]
  },
  {
   "cell_type": "code",
   "execution_count": 9,
   "id": "f038b95e",
   "metadata": {
    "execution": {
     "iopub.execute_input": "2024-07-15T16:15:05.147174Z",
     "iopub.status.busy": "2024-07-15T16:15:05.146549Z",
     "iopub.status.idle": "2024-07-15T16:15:07.313923Z",
     "shell.execute_reply": "2024-07-15T16:15:07.312323Z"
    },
    "papermill": {
     "duration": 2.179536,
     "end_time": "2024-07-15T16:15:07.317075",
     "exception": false,
     "start_time": "2024-07-15T16:15:05.137539",
     "status": "completed"
    },
    "tags": []
   },
   "outputs": [
    {
     "name": "stdout",
     "output_type": "stream",
     "text": [
      "                               SARIMAX Results                                \n",
      "==============================================================================\n",
      "Dep. Variable:                  close   No. Observations:                 6780\n",
      "Model:                 ARIMA(5, 1, 0)   Log Likelihood              -12346.235\n",
      "Date:                Mon, 15 Jul 2024   AIC                          24704.470\n",
      "Time:                        16:15:06   BIC                          24745.400\n",
      "Sample:                             0   HQIC                         24718.597\n",
      "                               - 6780                                         \n",
      "Covariance Type:                  opg                                         \n",
      "==============================================================================\n",
      "                 coef    std err          z      P>|z|      [0.025      0.975]\n",
      "------------------------------------------------------------------------------\n",
      "ar.L1         -0.0497      0.008     -6.610      0.000      -0.064      -0.035\n",
      "ar.L2         -0.0485      0.007     -7.227      0.000      -0.062      -0.035\n",
      "ar.L3         -0.0038      0.007     -0.509      0.611      -0.018       0.011\n",
      "ar.L4         -0.0177      0.007     -2.374      0.018      -0.032      -0.003\n",
      "ar.L5         -0.0326      0.007     -4.354      0.000      -0.047      -0.018\n",
      "sigma2         2.2358      0.019    117.666      0.000       2.199       2.273\n",
      "===================================================================================\n",
      "Ljung-Box (L1) (Q):                   0.01   Jarque-Bera (JB):             12000.32\n",
      "Prob(Q):                              0.91   Prob(JB):                         0.00\n",
      "Heteroskedasticity (H):               2.10   Skew:                            -0.55\n",
      "Prob(H) (two-sided):                  0.00   Kurtosis:                         9.42\n",
      "===================================================================================\n",
      "\n",
      "Warnings:\n",
      "[1] Covariance matrix calculated using the outer product of gradients (complex-step).\n",
      "Mean Squared Error: 11637.6152071466\n"
     ]
    }
   ],
   "source": [
    "# Train ARIMA model\n",
    "arima_model = ARIMA(train['close'], order=(5, 1, 0))\n",
    "arima_model_fit = arima_model.fit()\n",
    "\n",
    "# ARIMA Example\n",
    "predictions = arima_model_fit.forecast(steps=len(test))\n",
    "print(arima_model_fit.summary())\n",
    "\n",
    "# Calculate performance metrics\n",
    "from sklearn.metrics import mean_squared_error\n",
    "\n",
    "mse = mean_squared_error(test['close'], predictions)\n",
    "print(f'Mean Squared Error: {mse}')"
   ]
  },
  {
   "cell_type": "code",
   "execution_count": 10,
   "id": "8608b464",
   "metadata": {
    "execution": {
     "iopub.execute_input": "2024-07-15T16:15:07.335659Z",
     "iopub.status.busy": "2024-07-15T16:15:07.334476Z",
     "iopub.status.idle": "2024-07-15T16:15:07.455132Z",
     "shell.execute_reply": "2024-07-15T16:15:07.453427Z"
    },
    "papermill": {
     "duration": 0.133567,
     "end_time": "2024-07-15T16:15:07.458883",
     "exception": false,
     "start_time": "2024-07-15T16:15:07.325316",
     "status": "completed"
    },
    "tags": []
   },
   "outputs": [
    {
     "data": {
      "text/plain": [
       "['arima_model.pkl']"
      ]
     },
     "execution_count": 10,
     "metadata": {},
     "output_type": "execute_result"
    }
   ],
   "source": [
    "import joblib\n",
    "\n",
    "# Save the model to a file\n",
    "joblib.dump(arima_model, 'arima_model.pkl')"
   ]
  },
  {
   "cell_type": "markdown",
   "id": "160c2116",
   "metadata": {
    "papermill": {
     "duration": 0.008558,
     "end_time": "2024-07-15T16:15:07.475690",
     "exception": false,
     "start_time": "2024-07-15T16:15:07.467132",
     "status": "completed"
    },
    "tags": []
   },
   "source": [
    "## LSTM Model"
   ]
  },
  {
   "cell_type": "code",
   "execution_count": 11,
   "id": "26779b80",
   "metadata": {
    "execution": {
     "iopub.execute_input": "2024-07-15T16:15:07.495476Z",
     "iopub.status.busy": "2024-07-15T16:15:07.494956Z",
     "iopub.status.idle": "2024-07-15T16:27:27.350011Z",
     "shell.execute_reply": "2024-07-15T16:27:27.348501Z"
    },
    "papermill": {
     "duration": 739.867843,
     "end_time": "2024-07-15T16:27:27.352885",
     "exception": false,
     "start_time": "2024-07-15T16:15:07.485042",
     "status": "completed"
    },
    "tags": []
   },
   "outputs": [
    {
     "name": "stderr",
     "output_type": "stream",
     "text": [
      "2024-07-15 16:15:09.992714: E external/local_xla/xla/stream_executor/cuda/cuda_dnn.cc:9261] Unable to register cuDNN factory: Attempting to register factory for plugin cuDNN when one has already been registered\n",
      "2024-07-15 16:15:09.992894: E external/local_xla/xla/stream_executor/cuda/cuda_fft.cc:607] Unable to register cuFFT factory: Attempting to register factory for plugin cuFFT when one has already been registered\n",
      "2024-07-15 16:15:10.183384: E external/local_xla/xla/stream_executor/cuda/cuda_blas.cc:1515] Unable to register cuBLAS factory: Attempting to register factory for plugin cuBLAS when one has already been registered\n"
     ]
    },
    {
     "name": "stdout",
     "output_type": "stream",
     "text": [
      "Epoch 1/50\n",
      "210/210 - 15s - 73ms/step - loss: 7.1090e-04\n",
      "Epoch 2/50\n",
      "210/210 - 12s - 58ms/step - loss: 4.6444e-05\n",
      "Epoch 3/50\n",
      "210/210 - 12s - 56ms/step - loss: 4.2569e-05\n",
      "Epoch 4/50\n",
      "210/210 - 12s - 57ms/step - loss: 4.1195e-05\n",
      "Epoch 5/50\n",
      "210/210 - 20s - 96ms/step - loss: 4.1988e-05\n",
      "Epoch 6/50\n",
      "210/210 - 21s - 99ms/step - loss: 3.5811e-05\n",
      "Epoch 7/50\n",
      "210/210 - 12s - 56ms/step - loss: 3.5378e-05\n",
      "Epoch 8/50\n",
      "210/210 - 12s - 56ms/step - loss: 3.4438e-05\n",
      "Epoch 9/50\n",
      "210/210 - 12s - 56ms/step - loss: 2.9858e-05\n",
      "Epoch 10/50\n",
      "210/210 - 12s - 56ms/step - loss: 2.8931e-05\n",
      "Epoch 11/50\n",
      "210/210 - 12s - 57ms/step - loss: 2.9809e-05\n",
      "Epoch 12/50\n",
      "210/210 - 12s - 56ms/step - loss: 2.7436e-05\n",
      "Epoch 13/50\n",
      "210/210 - 20s - 97ms/step - loss: 2.7338e-05\n",
      "Epoch 14/50\n",
      "210/210 - 12s - 56ms/step - loss: 2.6516e-05\n",
      "Epoch 15/50\n",
      "210/210 - 12s - 58ms/step - loss: 2.2640e-05\n",
      "Epoch 16/50\n",
      "210/210 - 20s - 96ms/step - loss: 2.1775e-05\n",
      "Epoch 17/50\n",
      "210/210 - 12s - 57ms/step - loss: 2.2021e-05\n",
      "Epoch 18/50\n",
      "210/210 - 20s - 96ms/step - loss: 2.0649e-05\n",
      "Epoch 19/50\n",
      "210/210 - 12s - 57ms/step - loss: 2.0876e-05\n",
      "Epoch 20/50\n",
      "210/210 - 21s - 98ms/step - loss: 2.1125e-05\n",
      "Epoch 21/50\n",
      "210/210 - 12s - 55ms/step - loss: 1.7490e-05\n",
      "Epoch 22/50\n",
      "210/210 - 12s - 56ms/step - loss: 1.7831e-05\n",
      "Epoch 23/50\n",
      "210/210 - 12s - 57ms/step - loss: 1.6867e-05\n",
      "Epoch 24/50\n",
      "210/210 - 12s - 57ms/step - loss: 1.6551e-05\n",
      "Epoch 25/50\n",
      "210/210 - 20s - 97ms/step - loss: 1.6388e-05\n",
      "Epoch 26/50\n",
      "210/210 - 20s - 97ms/step - loss: 1.4859e-05\n",
      "Epoch 27/50\n",
      "210/210 - 12s - 58ms/step - loss: 1.4120e-05\n",
      "Epoch 28/50\n",
      "210/210 - 12s - 57ms/step - loss: 1.4266e-05\n",
      "Epoch 29/50\n",
      "210/210 - 20s - 96ms/step - loss: 1.5583e-05\n",
      "Epoch 30/50\n",
      "210/210 - 12s - 56ms/step - loss: 1.4139e-05\n",
      "Epoch 31/50\n",
      "210/210 - 21s - 98ms/step - loss: 1.3334e-05\n",
      "Epoch 32/50\n",
      "210/210 - 12s - 56ms/step - loss: 1.2293e-05\n",
      "Epoch 33/50\n",
      "210/210 - 20s - 97ms/step - loss: 1.1494e-05\n",
      "Epoch 34/50\n",
      "210/210 - 12s - 56ms/step - loss: 1.1182e-05\n",
      "Epoch 35/50\n",
      "210/210 - 12s - 56ms/step - loss: 1.1704e-05\n",
      "Epoch 36/50\n",
      "210/210 - 12s - 56ms/step - loss: 1.2875e-05\n",
      "Epoch 37/50\n",
      "210/210 - 12s - 56ms/step - loss: 1.2125e-05\n",
      "Epoch 38/50\n",
      "210/210 - 12s - 55ms/step - loss: 1.1887e-05\n",
      "Epoch 39/50\n",
      "210/210 - 12s - 56ms/step - loss: 1.2016e-05\n",
      "Epoch 40/50\n",
      "210/210 - 12s - 56ms/step - loss: 1.1322e-05\n",
      "Epoch 41/50\n",
      "210/210 - 12s - 57ms/step - loss: 1.0601e-05\n",
      "Epoch 42/50\n",
      "210/210 - 20s - 97ms/step - loss: 1.1625e-05\n",
      "Epoch 43/50\n",
      "210/210 - 12s - 56ms/step - loss: 1.2528e-05\n",
      "Epoch 44/50\n",
      "210/210 - 21s - 99ms/step - loss: 1.1182e-05\n",
      "Epoch 45/50\n",
      "210/210 - 12s - 57ms/step - loss: 1.3279e-05\n",
      "Epoch 46/50\n",
      "210/210 - 12s - 56ms/step - loss: 1.1410e-05\n",
      "Epoch 47/50\n",
      "210/210 - 21s - 98ms/step - loss: 1.1275e-05\n",
      "Epoch 48/50\n",
      "210/210 - 21s - 98ms/step - loss: 1.0684e-05\n",
      "Epoch 49/50\n",
      "210/210 - 12s - 56ms/step - loss: 1.1018e-05\n",
      "Epoch 50/50\n",
      "210/210 - 12s - 56ms/step - loss: 1.0909e-05\n"
     ]
    },
    {
     "data": {
      "text/plain": [
       "<keras.src.callbacks.history.History at 0x7a146d8e2b00>"
      ]
     },
     "execution_count": 11,
     "metadata": {},
     "output_type": "execute_result"
    }
   ],
   "source": [
    "from sklearn.preprocessing import MinMaxScaler\n",
    "from keras.models import Sequential\n",
    "from keras.layers import LSTM, Dense\n",
    "\n",
    "# Scale data\n",
    "scaler = MinMaxScaler(feature_range=(0, 1))\n",
    "scaled_data = scaler.fit_transform(data['close'].values.reshape(-1, 1))\n",
    "\n",
    "# Prepare data for LSTM\n",
    "def create_dataset(dataset, look_back=1):\n",
    "    X, Y = [], []\n",
    "    for i in range(len(dataset) - look_back - 1):\n",
    "        a = dataset[i:(i + look_back), 0]\n",
    "        X.append(a)\n",
    "        Y.append(dataset[i + look_back, 0])\n",
    "    return np.array(X), np.array(Y)\n",
    "\n",
    "look_back = 60\n",
    "X_train, y_train = create_dataset(scaled_data[0:train_size, :], look_back)\n",
    "X_test, y_test = create_dataset(scaled_data[train_size-look_back:, :], look_back)\n",
    "\n",
    "X_train = np.reshape(X_train, (X_train.shape[0], X_train.shape[1], 1))\n",
    "X_test = np.reshape(X_test, (X_test.shape[0], X_test.shape[1], 1))\n",
    "\n",
    "# Create and fit the LSTM network\n",
    "lstm_model = Sequential()\n",
    "lstm_model.add(LSTM(units=50, return_sequences=True, input_shape=(look_back, 1)))\n",
    "lstm_model.add(LSTM(units=50))\n",
    "lstm_model.add(Dense(1))\n",
    "\n",
    "lstm_model.compile(loss='mean_squared_error', optimizer='adam')\n",
    "lstm_model.fit(X_train, y_train, epochs=50, batch_size=32, verbose=2)"
   ]
  },
  {
   "cell_type": "code",
   "execution_count": 12,
   "id": "8e3cd6a5",
   "metadata": {
    "execution": {
     "iopub.execute_input": "2024-07-15T16:27:27.391319Z",
     "iopub.status.busy": "2024-07-15T16:27:27.390489Z",
     "iopub.status.idle": "2024-07-15T16:27:28.981630Z",
     "shell.execute_reply": "2024-07-15T16:27:28.979797Z"
    },
    "papermill": {
     "duration": 1.613722,
     "end_time": "2024-07-15T16:27:28.984501",
     "exception": false,
     "start_time": "2024-07-15T16:27:27.370779",
     "status": "completed"
    },
    "tags": []
   },
   "outputs": [
    {
     "name": "stdout",
     "output_type": "stream",
     "text": [
      "\u001b[1m36/36\u001b[0m \u001b[32m━━━━━━━━━━━━━━━━━━━━\u001b[0m\u001b[37m\u001b[0m \u001b[1m1s\u001b[0m 33ms/step\n",
      "Mean Squared Error: 113.00956091405698\n"
     ]
    }
   ],
   "source": [
    "# LSTM Example\n",
    "predictions = lstm_model.predict(X_test)\n",
    "predictions = scaler.inverse_transform(predictions)\n",
    "\n",
    "# Calculate performance metrics\n",
    "mse = mean_squared_error(test['close'][1:], predictions)\n",
    "print(f'Mean Squared Error: {mse}')"
   ]
  },
  {
   "cell_type": "code",
   "execution_count": 13,
   "id": "13fb7335",
   "metadata": {
    "execution": {
     "iopub.execute_input": "2024-07-15T16:27:29.026040Z",
     "iopub.status.busy": "2024-07-15T16:27:29.025529Z",
     "iopub.status.idle": "2024-07-15T16:27:29.088898Z",
     "shell.execute_reply": "2024-07-15T16:27:29.087684Z"
    },
    "papermill": {
     "duration": 0.087258,
     "end_time": "2024-07-15T16:27:29.091911",
     "exception": false,
     "start_time": "2024-07-15T16:27:29.004653",
     "status": "completed"
    },
    "tags": []
   },
   "outputs": [
    {
     "data": {
      "text/plain": [
       "['lstm_model.pkl']"
      ]
     },
     "execution_count": 13,
     "metadata": {},
     "output_type": "execute_result"
    }
   ],
   "source": [
    "# Save the model to a file\n",
    "joblib.dump(lstm_model, 'lstm_model.pkl')"
   ]
  }
 ],
 "metadata": {
  "kaggle": {
   "accelerator": "none",
   "dataSources": [
    {
     "datasetId": 5351768,
     "sourceId": 8902112,
     "sourceType": "datasetVersion"
    }
   ],
   "dockerImageVersionId": 30732,
   "isGpuEnabled": false,
   "isInternetEnabled": true,
   "language": "python",
   "sourceType": "notebook"
  },
  "kernelspec": {
   "display_name": "Python 3",
   "language": "python",
   "name": "python3"
  },
  "language_info": {
   "codemirror_mode": {
    "name": "ipython",
    "version": 3
   },
   "file_extension": ".py",
   "mimetype": "text/x-python",
   "name": "python",
   "nbconvert_exporter": "python",
   "pygments_lexer": "ipython3",
   "version": "3.10.13"
  },
  "papermill": {
   "default_parameters": {},
   "duration": 776.715338,
   "end_time": "2024-07-15T16:27:31.652583",
   "environment_variables": {},
   "exception": null,
   "input_path": "__notebook__.ipynb",
   "output_path": "__notebook__.ipynb",
   "parameters": {},
   "start_time": "2024-07-15T16:14:34.937245",
   "version": "2.5.0"
  }
 },
 "nbformat": 4,
 "nbformat_minor": 5
}
