{
 "cells": [
  {
   "cell_type": "code",
   "execution_count": 1,
   "id": "18eb8225",
   "metadata": {
    "_cell_guid": "b1076dfc-b9ad-4769-8c92-a6c4dae69d19",
    "_uuid": "8f2839f25d086af736a60e9eeb907d3b93b6e0e5",
    "execution": {
     "iopub.execute_input": "2024-07-15T15:48:19.343177Z",
     "iopub.status.busy": "2024-07-15T15:48:19.342763Z",
     "iopub.status.idle": "2024-07-15T15:48:41.722422Z",
     "shell.execute_reply": "2024-07-15T15:48:41.720948Z"
    },
    "papermill": {
     "duration": 22.398393,
     "end_time": "2024-07-15T15:48:41.725411",
     "exception": false,
     "start_time": "2024-07-15T15:48:19.327018",
     "status": "completed"
    },
    "tags": []
   },
   "outputs": [
    {
     "name": "stdout",
     "output_type": "stream",
     "text": [
      "\u001b[31mERROR: pip's dependency resolver does not currently take into account all the packages that are installed. This behaviour is the source of the following dependency conflicts.\r\n",
      "ydata-profiling 4.6.4 requires numpy<1.26,>=1.16.0, but you have numpy 1.26.4 which is incompatible.\u001b[0m\u001b[31m\r\n",
      "\u001b[0m"
     ]
    }
   ],
   "source": [
    "! pip install etfpy sketch -q"
   ]
  },
  {
   "cell_type": "code",
   "execution_count": 2,
   "id": "cfce6493",
   "metadata": {
    "execution": {
     "iopub.execute_input": "2024-07-15T15:48:41.755754Z",
     "iopub.status.busy": "2024-07-15T15:48:41.754809Z",
     "iopub.status.idle": "2024-07-15T15:48:43.298275Z",
     "shell.execute_reply": "2024-07-15T15:48:43.296991Z"
    },
    "papermill": {
     "duration": 1.561768,
     "end_time": "2024-07-15T15:48:43.301169",
     "exception": false,
     "start_time": "2024-07-15T15:48:41.739401",
     "status": "completed"
    },
    "tags": []
   },
   "outputs": [],
   "source": [
    "import pandas as pd\n",
    "import matplotlib.pyplot as plt\n",
    "from datetime import date\n",
    "import numpy as np\n",
    "\n",
    "from etfpy import ETF, load_etf, get_available_etfs_list"
   ]
  },
  {
   "cell_type": "markdown",
   "id": "8b5d1396",
   "metadata": {
    "papermill": {
     "duration": 0.013888,
     "end_time": "2024-07-15T15:48:43.329520",
     "exception": false,
     "start_time": "2024-07-15T15:48:43.315632",
     "status": "completed"
    },
    "tags": []
   },
   "source": [
    "# Load Data"
   ]
  },
  {
   "cell_type": "code",
   "execution_count": 3,
   "id": "0f66b1a2",
   "metadata": {
    "execution": {
     "iopub.execute_input": "2024-07-15T15:48:43.359842Z",
     "iopub.status.busy": "2024-07-15T15:48:43.359219Z",
     "iopub.status.idle": "2024-07-15T15:48:43.384061Z",
     "shell.execute_reply": "2024-07-15T15:48:43.382698Z"
    },
    "papermill": {
     "duration": 0.04266,
     "end_time": "2024-07-15T15:48:43.386843",
     "exception": false,
     "start_time": "2024-07-15T15:48:43.344183",
     "status": "completed"
    },
    "tags": []
   },
   "outputs": [
    {
     "data": {
      "text/plain": [
       "3262"
      ]
     },
     "execution_count": 3,
     "metadata": {},
     "output_type": "execute_result"
    }
   ],
   "source": [
    "etfs = get_available_etfs_list()\n",
    "len(etfs)"
   ]
  },
  {
   "cell_type": "code",
   "execution_count": 4,
   "id": "61c91428",
   "metadata": {
    "execution": {
     "iopub.execute_input": "2024-07-15T15:48:43.420230Z",
     "iopub.status.busy": "2024-07-15T15:48:43.419255Z",
     "iopub.status.idle": "2024-07-15T15:48:43.532986Z",
     "shell.execute_reply": "2024-07-15T15:48:43.531628Z"
    },
    "papermill": {
     "duration": 0.135006,
     "end_time": "2024-07-15T15:48:43.536313",
     "exception": false,
     "start_time": "2024-07-15T15:48:43.401307",
     "status": "completed"
    },
    "tags": []
   },
   "outputs": [],
   "source": [
    "df = pd.read_csv(\"/kaggle/input/etfdb-overview/etfdb.csv\", index_col=0)"
   ]
  },
  {
   "cell_type": "code",
   "execution_count": 5,
   "id": "e9caf20e",
   "metadata": {
    "execution": {
     "iopub.execute_input": "2024-07-15T15:48:43.579682Z",
     "iopub.status.busy": "2024-07-15T15:48:43.579241Z",
     "iopub.status.idle": "2024-07-15T15:48:43.588245Z",
     "shell.execute_reply": "2024-07-15T15:48:43.586719Z"
    },
    "papermill": {
     "duration": 0.04037,
     "end_time": "2024-07-15T15:48:43.597648",
     "exception": false,
     "start_time": "2024-07-15T15:48:43.557278",
     "status": "completed"
    },
    "tags": []
   },
   "outputs": [
    {
     "data": {
      "text/plain": [
       "(3137, 125)"
      ]
     },
     "execution_count": 5,
     "metadata": {},
     "output_type": "execute_result"
    }
   ],
   "source": [
    "len(df), len(etfs)-len(df)"
   ]
  },
  {
   "cell_type": "code",
   "execution_count": 6,
   "id": "5dbe6861",
   "metadata": {
    "execution": {
     "iopub.execute_input": "2024-07-15T15:48:43.631634Z",
     "iopub.status.busy": "2024-07-15T15:48:43.630726Z",
     "iopub.status.idle": "2024-07-15T15:48:43.639157Z",
     "shell.execute_reply": "2024-07-15T15:48:43.637895Z"
    },
    "papermill": {
     "duration": 0.027647,
     "end_time": "2024-07-15T15:48:43.642458",
     "exception": false,
     "start_time": "2024-07-15T15:48:43.614811",
     "status": "completed"
    },
    "tags": []
   },
   "outputs": [
    {
     "name": "stdout",
     "output_type": "stream",
     "text": [
      "ABCS APIE ARVR AVNV BBC BGLD BILD BITC BLLD BOAT BRNY CATH CGUS COWZ CRPT CSML DAPR DBEU DFSD DFSU DIP DISV DJAN DMAT DRIV DYLG EES EFIV EJUL EKG EMFM ENFR EPI EWC EZJ FCG FDLO FEEM FEPI FNGS FNGU FNOV FPXI FTSD FTXG FXE FXU GDE GJUL GLTR GNR GRN GSEU GSPY HYFI HYXF HYXU IDHQ IEO IGTR IMTM IWC IWML IXC JANH JMBS KALL KURE LBAY LCLG LGHT LOPP LOWV LRGF MCSE MILN MORT MRCP MTGP MVPS NBCT PBFB PDBC PEMX PGHY PPA PSFO PXH QTJL QVMM RDFI RSPR SCHI SCHM SCHP SDOG SDY SGLC SOXX SPHY SPXN SPYI TAXF TMFC TRFK TSL TTT UEVM UPW USMC USOI UTES VGLT VLU VRP WCLD WEBL WNDY XRLX XRT XTEN XTJA XTWY XYLD YLD\n"
     ]
    }
   ],
   "source": [
    "# missing ETFs\n",
    "print(*sorted(set(etfs).difference(df[\"Symbol\"].to_list())), sep=\" \")"
   ]
  },
  {
   "cell_type": "code",
   "execution_count": 7,
   "id": "db3c76ac",
   "metadata": {
    "execution": {
     "iopub.execute_input": "2024-07-15T15:48:43.674112Z",
     "iopub.status.busy": "2024-07-15T15:48:43.672790Z",
     "iopub.status.idle": "2024-07-15T15:48:43.696766Z",
     "shell.execute_reply": "2024-07-15T15:48:43.695419Z"
    },
    "papermill": {
     "duration": 0.042998,
     "end_time": "2024-07-15T15:48:43.699803",
     "exception": false,
     "start_time": "2024-07-15T15:48:43.656805",
     "status": "completed"
    },
    "tags": []
   },
   "outputs": [
    {
     "data": {
      "text/html": [
       "<div>\n",
       "<style scoped>\n",
       "    .dataframe tbody tr th:only-of-type {\n",
       "        vertical-align: middle;\n",
       "    }\n",
       "\n",
       "    .dataframe tbody tr th {\n",
       "        vertical-align: top;\n",
       "    }\n",
       "\n",
       "    .dataframe thead th {\n",
       "        text-align: right;\n",
       "    }\n",
       "</style>\n",
       "<table border=\"1\" class=\"dataframe\">\n",
       "  <thead>\n",
       "    <tr style=\"text-align: right;\">\n",
       "      <th></th>\n",
       "      <th>0</th>\n",
       "      <th>1</th>\n",
       "      <th>2</th>\n",
       "    </tr>\n",
       "  </thead>\n",
       "  <tbody>\n",
       "    <tr>\n",
       "      <th>Symbol</th>\n",
       "      <td>SPY</td>\n",
       "      <td>IVV</td>\n",
       "      <td>VOO</td>\n",
       "    </tr>\n",
       "    <tr>\n",
       "      <th>Url</th>\n",
       "      <td>https://etfdb.com/etf/SPY</td>\n",
       "      <td>https://etfdb.com/etf/IVV</td>\n",
       "      <td>https://etfdb.com/etf/VOO</td>\n",
       "    </tr>\n",
       "    <tr>\n",
       "      <th>Issuer</th>\n",
       "      <td>https://etfdb.com/issuer/state-street/</td>\n",
       "      <td>https://etfdb.com/issuer/blackrock-inc/</td>\n",
       "      <td>https://etfdb.com/issuer/vanguard/</td>\n",
       "    </tr>\n",
       "    <tr>\n",
       "      <th>Brand</th>\n",
       "      <td>https://etfdb.com/issuer/spdr/</td>\n",
       "      <td>https://etfdb.com/issuer/ishares/</td>\n",
       "      <td>https://etfdb.com/issuer/vanguard/</td>\n",
       "    </tr>\n",
       "    <tr>\n",
       "      <th>Structure</th>\n",
       "      <td>UIT</td>\n",
       "      <td>ETF</td>\n",
       "      <td>ETF</td>\n",
       "    </tr>\n",
       "    <tr>\n",
       "      <th>Expense Ratio</th>\n",
       "      <td>0.09%</td>\n",
       "      <td>0.03%</td>\n",
       "      <td>0.03%</td>\n",
       "    </tr>\n",
       "    <tr>\n",
       "      <th>ETF Home Page</th>\n",
       "      <td>https://www.spdrs.com/product/fund.seam?ticker...</td>\n",
       "      <td>http://us.ishares.com/product_info/fund/overvi...</td>\n",
       "      <td>https://advisors.vanguard.com/investments/prod...</td>\n",
       "    </tr>\n",
       "    <tr>\n",
       "      <th>Inception</th>\n",
       "      <td>Jan 22, 1993</td>\n",
       "      <td>May 15, 2000</td>\n",
       "      <td>Sep 07, 2010</td>\n",
       "    </tr>\n",
       "    <tr>\n",
       "      <th>Index Tracked</th>\n",
       "      <td>https://etfdb.com/index/sp-500-index/</td>\n",
       "      <td>https://etfdb.com/index/sp-500-index/</td>\n",
       "      <td>https://etfdb.com/index/sp-500-index/</td>\n",
       "    </tr>\n",
       "    <tr>\n",
       "      <th>Analyst Report</th>\n",
       "      <td>https://etfdb.com/advisor_reports/SPY/</td>\n",
       "      <td>https://etfdb.com/advisor_reports/IVV/</td>\n",
       "      <td>https://etfdb.com/advisor_reports/VOO/</td>\n",
       "    </tr>\n",
       "    <tr>\n",
       "      <th>Price:</th>\n",
       "      <td>$551.46</td>\n",
       "      <td>$554.33</td>\n",
       "      <td>$506.81</td>\n",
       "    </tr>\n",
       "    <tr>\n",
       "      <th>Change:</th>\n",
       "      <td>$2.45 (0.0%)</td>\n",
       "      <td>$2.42 (0.0%)</td>\n",
       "      <td>$2.28 (0.0%)</td>\n",
       "    </tr>\n",
       "    <tr>\n",
       "      <th>Category:</th>\n",
       "      <td>Large Cap Growth Equities</td>\n",
       "      <td>Large Cap Growth Equities</td>\n",
       "      <td>Large Cap Growth Equities</td>\n",
       "    </tr>\n",
       "    <tr>\n",
       "      <th>Last Updated:</th>\n",
       "      <td>Jul 03, 2024</td>\n",
       "      <td>Jul 04, 2024</td>\n",
       "      <td>Jul 04, 2024</td>\n",
       "    </tr>\n",
       "    <tr>\n",
       "      <th>P/E Ratio</th>\n",
       "      <td>{'SPY': '17.86', 'ETF Database Category Averag...</td>\n",
       "      <td>{'IVV': '19.66', 'ETF Database Category Averag...</td>\n",
       "      <td>{'VOO': '20.10', 'ETF Database Category Averag...</td>\n",
       "    </tr>\n",
       "    <tr>\n",
       "      <th>52 Week Lo</th>\n",
       "      <td>$404.99</td>\n",
       "      <td>$406.85</td>\n",
       "      <td>$371.88</td>\n",
       "    </tr>\n",
       "    <tr>\n",
       "      <th>52 Week Hi</th>\n",
       "      <td>$551.83</td>\n",
       "      <td>$554.81</td>\n",
       "      <td>$507.14</td>\n",
       "    </tr>\n",
       "    <tr>\n",
       "      <th>AUM</th>\n",
       "      <td>$545,741.0 M</td>\n",
       "      <td>$497,954.0 M</td>\n",
       "      <td>$478,357.0 M</td>\n",
       "    </tr>\n",
       "    <tr>\n",
       "      <th>Shares</th>\n",
       "      <td>994.4 M</td>\n",
       "      <td>902.5 M</td>\n",
       "      <td>948.4 M</td>\n",
       "    </tr>\n",
       "    <tr>\n",
       "      <th>Category</th>\n",
       "      <td>Size and Style</td>\n",
       "      <td>Size and Style</td>\n",
       "      <td>Size and Style</td>\n",
       "    </tr>\n",
       "    <tr>\n",
       "      <th>Asset Class</th>\n",
       "      <td>Equity</td>\n",
       "      <td>Equity</td>\n",
       "      <td>Equity</td>\n",
       "    </tr>\n",
       "    <tr>\n",
       "      <th>Asset Class Size</th>\n",
       "      <td>Large-Cap</td>\n",
       "      <td>Large-Cap</td>\n",
       "      <td>Large-Cap</td>\n",
       "    </tr>\n",
       "    <tr>\n",
       "      <th>Asset Class Style</th>\n",
       "      <td>Blend</td>\n",
       "      <td>Blend</td>\n",
       "      <td>Blend</td>\n",
       "    </tr>\n",
       "    <tr>\n",
       "      <th>Region (General)</th>\n",
       "      <td>North America</td>\n",
       "      <td>North America</td>\n",
       "      <td>North America</td>\n",
       "    </tr>\n",
       "    <tr>\n",
       "      <th>Region (Specific)</th>\n",
       "      <td>U.S.</td>\n",
       "      <td>U.S.</td>\n",
       "      <td>U.S.</td>\n",
       "    </tr>\n",
       "    <tr>\n",
       "      <th>Segment</th>\n",
       "      <td>Equity: U.S.  -  Large Cap</td>\n",
       "      <td>Equity: U.S.  -  Large Cap</td>\n",
       "      <td>Equity: U.S.  -  Large Cap</td>\n",
       "    </tr>\n",
       "    <tr>\n",
       "      <th>Focus</th>\n",
       "      <td>Large Cap</td>\n",
       "      <td>Large Cap</td>\n",
       "      <td>Large Cap</td>\n",
       "    </tr>\n",
       "    <tr>\n",
       "      <th>Niche</th>\n",
       "      <td>Broad-based</td>\n",
       "      <td>Broad-based</td>\n",
       "      <td>Broad-based</td>\n",
       "    </tr>\n",
       "    <tr>\n",
       "      <th>Strategy</th>\n",
       "      <td>Vanilla</td>\n",
       "      <td>Vanilla</td>\n",
       "      <td>Vanilla</td>\n",
       "    </tr>\n",
       "    <tr>\n",
       "      <th>Weighting Scheme</th>\n",
       "      <td>Market Cap</td>\n",
       "      <td>Market Cap</td>\n",
       "      <td>Market Cap</td>\n",
       "    </tr>\n",
       "    <tr>\n",
       "      <th>Sector (General)</th>\n",
       "      <td>NaN</td>\n",
       "      <td>NaN</td>\n",
       "      <td>NaN</td>\n",
       "    </tr>\n",
       "    <tr>\n",
       "      <th>Sector (Specific)</th>\n",
       "      <td>NaN</td>\n",
       "      <td>NaN</td>\n",
       "      <td>NaN</td>\n",
       "    </tr>\n",
       "    <tr>\n",
       "      <th>Bond Type(s)</th>\n",
       "      <td>NaN</td>\n",
       "      <td>NaN</td>\n",
       "      <td>NaN</td>\n",
       "    </tr>\n",
       "    <tr>\n",
       "      <th>Bond Duration</th>\n",
       "      <td>NaN</td>\n",
       "      <td>NaN</td>\n",
       "      <td>NaN</td>\n",
       "    </tr>\n",
       "    <tr>\n",
       "      <th>Commodity Type</th>\n",
       "      <td>NaN</td>\n",
       "      <td>NaN</td>\n",
       "      <td>NaN</td>\n",
       "    </tr>\n",
       "    <tr>\n",
       "      <th>Commodity</th>\n",
       "      <td>NaN</td>\n",
       "      <td>NaN</td>\n",
       "      <td>NaN</td>\n",
       "    </tr>\n",
       "    <tr>\n",
       "      <th>Commodity Exposure</th>\n",
       "      <td>NaN</td>\n",
       "      <td>NaN</td>\n",
       "      <td>NaN</td>\n",
       "    </tr>\n",
       "    <tr>\n",
       "      <th>Currency</th>\n",
       "      <td>NaN</td>\n",
       "      <td>NaN</td>\n",
       "      <td>NaN</td>\n",
       "    </tr>\n",
       "    <tr>\n",
       "      <th>Leveraged</th>\n",
       "      <td>NaN</td>\n",
       "      <td>NaN</td>\n",
       "      <td>NaN</td>\n",
       "    </tr>\n",
       "    <tr>\n",
       "      <th>Inverse</th>\n",
       "      <td>NaN</td>\n",
       "      <td>NaN</td>\n",
       "      <td>NaN</td>\n",
       "    </tr>\n",
       "  </tbody>\n",
       "</table>\n",
       "</div>"
      ],
      "text/plain": [
       "                                                                    0  \\\n",
       "Symbol                                                            SPY   \n",
       "Url                                         https://etfdb.com/etf/SPY   \n",
       "Issuer                         https://etfdb.com/issuer/state-street/   \n",
       "Brand                                  https://etfdb.com/issuer/spdr/   \n",
       "Structure                                                         UIT   \n",
       "Expense Ratio                                                   0.09%   \n",
       "ETF Home Page       https://www.spdrs.com/product/fund.seam?ticker...   \n",
       "Inception                                                Jan 22, 1993   \n",
       "Index Tracked                   https://etfdb.com/index/sp-500-index/   \n",
       "Analyst Report                 https://etfdb.com/advisor_reports/SPY/   \n",
       "Price:                                                        $551.46   \n",
       "Change:                                                  $2.45 (0.0%)   \n",
       "Category:                                   Large Cap Growth Equities   \n",
       "Last Updated:                                            Jul 03, 2024   \n",
       "P/E Ratio           {'SPY': '17.86', 'ETF Database Category Averag...   \n",
       "52 Week Lo                                                    $404.99   \n",
       "52 Week Hi                                                    $551.83   \n",
       "AUM                                                      $545,741.0 M   \n",
       "Shares                                                        994.4 M   \n",
       "Category                                               Size and Style   \n",
       "Asset Class                                                    Equity   \n",
       "Asset Class Size                                            Large-Cap   \n",
       "Asset Class Style                                               Blend   \n",
       "Region (General)                                        North America   \n",
       "Region (Specific)                                                U.S.   \n",
       "Segment                                    Equity: U.S.  -  Large Cap   \n",
       "Focus                                                       Large Cap   \n",
       "Niche                                                     Broad-based   \n",
       "Strategy                                                      Vanilla   \n",
       "Weighting Scheme                                           Market Cap   \n",
       "Sector (General)                                                  NaN   \n",
       "Sector (Specific)                                                 NaN   \n",
       "Bond Type(s)                                                      NaN   \n",
       "Bond Duration                                                     NaN   \n",
       "Commodity Type                                                    NaN   \n",
       "Commodity                                                         NaN   \n",
       "Commodity Exposure                                                NaN   \n",
       "Currency                                                          NaN   \n",
       "Leveraged                                                         NaN   \n",
       "Inverse                                                           NaN   \n",
       "\n",
       "                                                                    1  \\\n",
       "Symbol                                                            IVV   \n",
       "Url                                         https://etfdb.com/etf/IVV   \n",
       "Issuer                        https://etfdb.com/issuer/blackrock-inc/   \n",
       "Brand                               https://etfdb.com/issuer/ishares/   \n",
       "Structure                                                         ETF   \n",
       "Expense Ratio                                                   0.03%   \n",
       "ETF Home Page       http://us.ishares.com/product_info/fund/overvi...   \n",
       "Inception                                                May 15, 2000   \n",
       "Index Tracked                   https://etfdb.com/index/sp-500-index/   \n",
       "Analyst Report                 https://etfdb.com/advisor_reports/IVV/   \n",
       "Price:                                                        $554.33   \n",
       "Change:                                                  $2.42 (0.0%)   \n",
       "Category:                                   Large Cap Growth Equities   \n",
       "Last Updated:                                            Jul 04, 2024   \n",
       "P/E Ratio           {'IVV': '19.66', 'ETF Database Category Averag...   \n",
       "52 Week Lo                                                    $406.85   \n",
       "52 Week Hi                                                    $554.81   \n",
       "AUM                                                      $497,954.0 M   \n",
       "Shares                                                        902.5 M   \n",
       "Category                                               Size and Style   \n",
       "Asset Class                                                    Equity   \n",
       "Asset Class Size                                            Large-Cap   \n",
       "Asset Class Style                                               Blend   \n",
       "Region (General)                                        North America   \n",
       "Region (Specific)                                                U.S.   \n",
       "Segment                                    Equity: U.S.  -  Large Cap   \n",
       "Focus                                                       Large Cap   \n",
       "Niche                                                     Broad-based   \n",
       "Strategy                                                      Vanilla   \n",
       "Weighting Scheme                                           Market Cap   \n",
       "Sector (General)                                                  NaN   \n",
       "Sector (Specific)                                                 NaN   \n",
       "Bond Type(s)                                                      NaN   \n",
       "Bond Duration                                                     NaN   \n",
       "Commodity Type                                                    NaN   \n",
       "Commodity                                                         NaN   \n",
       "Commodity Exposure                                                NaN   \n",
       "Currency                                                          NaN   \n",
       "Leveraged                                                         NaN   \n",
       "Inverse                                                           NaN   \n",
       "\n",
       "                                                                    2  \n",
       "Symbol                                                            VOO  \n",
       "Url                                         https://etfdb.com/etf/VOO  \n",
       "Issuer                             https://etfdb.com/issuer/vanguard/  \n",
       "Brand                              https://etfdb.com/issuer/vanguard/  \n",
       "Structure                                                         ETF  \n",
       "Expense Ratio                                                   0.03%  \n",
       "ETF Home Page       https://advisors.vanguard.com/investments/prod...  \n",
       "Inception                                                Sep 07, 2010  \n",
       "Index Tracked                   https://etfdb.com/index/sp-500-index/  \n",
       "Analyst Report                 https://etfdb.com/advisor_reports/VOO/  \n",
       "Price:                                                        $506.81  \n",
       "Change:                                                  $2.28 (0.0%)  \n",
       "Category:                                   Large Cap Growth Equities  \n",
       "Last Updated:                                            Jul 04, 2024  \n",
       "P/E Ratio           {'VOO': '20.10', 'ETF Database Category Averag...  \n",
       "52 Week Lo                                                    $371.88  \n",
       "52 Week Hi                                                    $507.14  \n",
       "AUM                                                      $478,357.0 M  \n",
       "Shares                                                        948.4 M  \n",
       "Category                                               Size and Style  \n",
       "Asset Class                                                    Equity  \n",
       "Asset Class Size                                            Large-Cap  \n",
       "Asset Class Style                                               Blend  \n",
       "Region (General)                                        North America  \n",
       "Region (Specific)                                                U.S.  \n",
       "Segment                                    Equity: U.S.  -  Large Cap  \n",
       "Focus                                                       Large Cap  \n",
       "Niche                                                     Broad-based  \n",
       "Strategy                                                      Vanilla  \n",
       "Weighting Scheme                                           Market Cap  \n",
       "Sector (General)                                                  NaN  \n",
       "Sector (Specific)                                                 NaN  \n",
       "Bond Type(s)                                                      NaN  \n",
       "Bond Duration                                                     NaN  \n",
       "Commodity Type                                                    NaN  \n",
       "Commodity                                                         NaN  \n",
       "Commodity Exposure                                                NaN  \n",
       "Currency                                                          NaN  \n",
       "Leveraged                                                         NaN  \n",
       "Inverse                                                           NaN  "
      ]
     },
     "execution_count": 7,
     "metadata": {},
     "output_type": "execute_result"
    }
   ],
   "source": [
    "# df = pd.DataFrame(tmp)\n",
    "\n",
    "df.head(3).T"
   ]
  },
  {
   "cell_type": "code",
   "execution_count": 8,
   "id": "a5c58623",
   "metadata": {
    "execution": {
     "iopub.execute_input": "2024-07-15T15:48:43.731771Z",
     "iopub.status.busy": "2024-07-15T15:48:43.731323Z",
     "iopub.status.idle": "2024-07-15T15:48:43.936546Z",
     "shell.execute_reply": "2024-07-15T15:48:43.935225Z"
    },
    "papermill": {
     "duration": 0.2243,
     "end_time": "2024-07-15T15:48:43.939478",
     "exception": false,
     "start_time": "2024-07-15T15:48:43.715178",
     "status": "completed"
    },
    "tags": []
   },
   "outputs": [],
   "source": [
    "df.to_csv(\"etfdb.csv.zip\", compression=\"zip\")"
   ]
  },
  {
   "cell_type": "code",
   "execution_count": 9,
   "id": "74048e5f",
   "metadata": {
    "execution": {
     "iopub.execute_input": "2024-07-15T15:48:43.971608Z",
     "iopub.status.busy": "2024-07-15T15:48:43.971164Z",
     "iopub.status.idle": "2024-07-15T15:48:44.007368Z",
     "shell.execute_reply": "2024-07-15T15:48:44.005714Z"
    },
    "papermill": {
     "duration": 0.055367,
     "end_time": "2024-07-15T15:48:44.010016",
     "exception": false,
     "start_time": "2024-07-15T15:48:43.954649",
     "status": "completed"
    },
    "tags": []
   },
   "outputs": [
    {
     "name": "stdout",
     "output_type": "stream",
     "text": [
      "<class 'pandas.core.frame.DataFrame'>\n",
      "Index: 3137 entries, 0 to 3136\n",
      "Data columns (total 40 columns):\n",
      " #   Column              Non-Null Count  Dtype \n",
      "---  ------              --------------  ----- \n",
      " 0   Symbol              3137 non-null   object\n",
      " 1   Url                 3137 non-null   object\n",
      " 2   Issuer              3137 non-null   object\n",
      " 3   Brand               3136 non-null   object\n",
      " 4   Structure           2609 non-null   object\n",
      " 5   Expense Ratio       3137 non-null   object\n",
      " 6   ETF Home Page       2659 non-null   object\n",
      " 7   Inception           3137 non-null   object\n",
      " 8   Index Tracked       3137 non-null   object\n",
      " 9   Analyst Report      3137 non-null   object\n",
      " 10  Price:              3113 non-null   object\n",
      " 11  Change:             3113 non-null   object\n",
      " 12  Category:           2674 non-null   object\n",
      " 13  Last Updated:       3111 non-null   object\n",
      " 14  P/E Ratio           3137 non-null   object\n",
      " 15  52 Week Lo          3111 non-null   object\n",
      " 16  52 Week Hi          3111 non-null   object\n",
      " 17  AUM                 3137 non-null   object\n",
      " 18  Shares              3137 non-null   object\n",
      " 19  Category            3134 non-null   object\n",
      " 20  Asset Class         3137 non-null   object\n",
      " 21  Asset Class Size    1976 non-null   object\n",
      " 22  Asset Class Style   1661 non-null   object\n",
      " 23  Region (General)    2677 non-null   object\n",
      " 24  Region (Specific)   2677 non-null   object\n",
      " 25  Segment             3137 non-null   object\n",
      " 26  Focus               3134 non-null   object\n",
      " 27  Niche               3134 non-null   object\n",
      " 28  Strategy            3134 non-null   object\n",
      " 29  Weighting Scheme    3134 non-null   object\n",
      " 30  Sector (General)    626 non-null    object\n",
      " 31  Sector (Specific)   626 non-null    object\n",
      " 32  Bond Type(s)        499 non-null    object\n",
      " 33  Bond Duration       499 non-null    object\n",
      " 34  Commodity Type      80 non-null     object\n",
      " 35  Commodity           80 non-null     object\n",
      " 36  Commodity Exposure  80 non-null     object\n",
      " 37  Currency            34 non-null     object\n",
      " 38  Leveraged           242 non-null    object\n",
      " 39  Inverse             98 non-null     object\n",
      "dtypes: object(40)\n",
      "memory usage: 1004.8+ KB\n"
     ]
    }
   ],
   "source": [
    "df.info()"
   ]
  },
  {
   "cell_type": "markdown",
   "id": "532745f4",
   "metadata": {
    "papermill": {
     "duration": 0.014709,
     "end_time": "2024-07-15T15:48:44.039963",
     "exception": false,
     "start_time": "2024-07-15T15:48:44.025254",
     "status": "completed"
    },
    "tags": []
   },
   "source": [
    "# Overview all ETFs"
   ]
  },
  {
   "cell_type": "code",
   "execution_count": 10,
   "id": "ec990ef7",
   "metadata": {
    "execution": {
     "iopub.execute_input": "2024-07-15T15:48:44.074129Z",
     "iopub.status.busy": "2024-07-15T15:48:44.073687Z",
     "iopub.status.idle": "2024-07-15T15:48:44.088916Z",
     "shell.execute_reply": "2024-07-15T15:48:44.087668Z"
    },
    "papermill": {
     "duration": 0.035312,
     "end_time": "2024-07-15T15:48:44.091509",
     "exception": false,
     "start_time": "2024-07-15T15:48:44.056197",
     "status": "completed"
    },
    "tags": []
   },
   "outputs": [
    {
     "data": {
      "text/plain": [
       "Issuer\n",
       "blackrock-inc                400\n",
       "first-trust                  219\n",
       "invesco                      206\n",
       "proshares                    139\n",
       "state-street                 129\n",
       "                            ... \n",
       "capital-impact-advisors        1\n",
       "the-leuthold-group-llc         1\n",
       "q3-asset-management-corp       1\n",
       "first-pacific-advisors-lp      1\n",
       "sprott-asset-management        1\n",
       "Name: count, Length: 232, dtype: int64"
      ]
     },
     "execution_count": 10,
     "metadata": {},
     "output_type": "execute_result"
    }
   ],
   "source": [
    "df.Issuer.map(lambda x: x.split(\"/\")[-2]).value_counts()"
   ]
  },
  {
   "cell_type": "code",
   "execution_count": 11,
   "id": "0394ca96",
   "metadata": {
    "execution": {
     "iopub.execute_input": "2024-07-15T15:48:44.125216Z",
     "iopub.status.busy": "2024-07-15T15:48:44.124773Z",
     "iopub.status.idle": "2024-07-15T15:48:44.140622Z",
     "shell.execute_reply": "2024-07-15T15:48:44.139349Z"
    },
    "papermill": {
     "duration": 0.036258,
     "end_time": "2024-07-15T15:48:44.143657",
     "exception": false,
     "start_time": "2024-07-15T15:48:44.107399",
     "status": "completed"
    },
    "tags": []
   },
   "outputs": [
    {
     "data": {
      "text/plain": [
       "Brand\n",
       "ishares            383\n",
       "invesco            198\n",
       "first-trust        151\n",
       "proshares          139\n",
       "spdr               131\n",
       "                  ... \n",
       "breakwave            1\n",
       "regents-park         1\n",
       "ea-series-trust      1\n",
       "cambiar-funds        1\n",
       "cboe-vest            1\n",
       "Name: count, Length: 319, dtype: int64"
      ]
     },
     "execution_count": 11,
     "metadata": {},
     "output_type": "execute_result"
    }
   ],
   "source": [
    "df.Brand.dropna().map(lambda x: x.split(\"/\")[-2]).value_counts()"
   ]
  },
  {
   "cell_type": "code",
   "execution_count": 12,
   "id": "7fd8da78",
   "metadata": {
    "execution": {
     "iopub.execute_input": "2024-07-15T15:48:44.178507Z",
     "iopub.status.busy": "2024-07-15T15:48:44.178078Z",
     "iopub.status.idle": "2024-07-15T15:48:44.189158Z",
     "shell.execute_reply": "2024-07-15T15:48:44.187851Z"
    },
    "papermill": {
     "duration": 0.031657,
     "end_time": "2024-07-15T15:48:44.191751",
     "exception": false,
     "start_time": "2024-07-15T15:48:44.160094",
     "status": "completed"
    },
    "tags": []
   },
   "outputs": [
    {
     "data": {
      "text/plain": [
       "Region (General)\n",
       "North America             1614\n",
       "Developed Markets          389\n",
       "Global                     328\n",
       "Emerging Markets           102\n",
       "Emerging Asia Pacific       55\n",
       "Global ex-U.S.              49\n",
       "Developed Europe            41\n",
       "Developed Asia Pacific      37\n",
       "Broad Asia                  35\n",
       "Latin America               19\n",
       "Middle East                  5\n",
       "Frontier Markets             1\n",
       "Africa                       1\n",
       "Emerging Europe              1\n",
       "Name: count, dtype: int64"
      ]
     },
     "execution_count": 12,
     "metadata": {},
     "output_type": "execute_result"
    }
   ],
   "source": [
    "df['Region (General)'].value_counts()"
   ]
  },
  {
   "cell_type": "code",
   "execution_count": 13,
   "id": "385a8a4b",
   "metadata": {
    "execution": {
     "iopub.execute_input": "2024-07-15T15:48:44.226581Z",
     "iopub.status.busy": "2024-07-15T15:48:44.226142Z",
     "iopub.status.idle": "2024-07-15T15:48:44.237711Z",
     "shell.execute_reply": "2024-07-15T15:48:44.236492Z"
    },
    "papermill": {
     "duration": 0.03204,
     "end_time": "2024-07-15T15:48:44.240411",
     "exception": false,
     "start_time": "2024-07-15T15:48:44.208371",
     "status": "completed"
    },
    "tags": []
   },
   "outputs": [
    {
     "data": {
      "text/plain": [
       "Region (Specific)\n",
       "U.S.                    1595\n",
       "Broad                    918\n",
       "China                     33\n",
       "EAFE                      25\n",
       "Pacific ex-Japan          20\n",
       "Japan                     19\n",
       "India                     12\n",
       "Brazil                     9\n",
       "South Korea                5\n",
       "Canada                     4\n",
       "United Kingdom             3\n",
       "Mexico                     3\n",
       "Australia                  3\n",
       "Germany                    3\n",
       "Switzerland                2\n",
       "Israel                     2\n",
       "Indonesia                  2\n",
       "Vietnam                    2\n",
       "Taiwan                     2\n",
       "Peru                       1\n",
       "Hong Kong                  1\n",
       "Saudi Arabia               1\n",
       "United Arab Emirates       1\n",
       "Colombia                   1\n",
       "Qatar                      1\n",
       "New Zealand                1\n",
       "Philippines                1\n",
       "Italy                      1\n",
       "Chile                      1\n",
       "Argentina                  1\n",
       "Greece                     1\n",
       "Thailand                   1\n",
       "Malaysia                   1\n",
       "Russia                     1\n",
       "Name: count, dtype: int64"
      ]
     },
     "execution_count": 13,
     "metadata": {},
     "output_type": "execute_result"
    }
   ],
   "source": [
    "df['Region (Specific)'].value_counts()"
   ]
  },
  {
   "cell_type": "code",
   "execution_count": 14,
   "id": "62fdb89d",
   "metadata": {
    "execution": {
     "iopub.execute_input": "2024-07-15T15:48:44.278008Z",
     "iopub.status.busy": "2024-07-15T15:48:44.276682Z",
     "iopub.status.idle": "2024-07-15T15:48:44.295444Z",
     "shell.execute_reply": "2024-07-15T15:48:44.293971Z"
    },
    "papermill": {
     "duration": 0.04088,
     "end_time": "2024-07-15T15:48:44.299080",
     "exception": false,
     "start_time": "2024-07-15T15:48:44.258200",
     "status": "completed"
    },
    "tags": []
   },
   "outputs": [
    {
     "data": {
      "text/html": [
       "<div>\n",
       "<style scoped>\n",
       "    .dataframe tbody tr th:only-of-type {\n",
       "        vertical-align: middle;\n",
       "    }\n",
       "\n",
       "    .dataframe tbody tr th {\n",
       "        vertical-align: top;\n",
       "    }\n",
       "\n",
       "    .dataframe thead th {\n",
       "        text-align: right;\n",
       "    }\n",
       "</style>\n",
       "<table border=\"1\" class=\"dataframe\">\n",
       "  <thead>\n",
       "    <tr style=\"text-align: right;\">\n",
       "      <th></th>\n",
       "      <th>Symbol</th>\n",
       "      <th>Inception</th>\n",
       "    </tr>\n",
       "  </thead>\n",
       "  <tbody>\n",
       "    <tr>\n",
       "      <th>0</th>\n",
       "      <td>SPY</td>\n",
       "      <td>Jan 22, 1993</td>\n",
       "    </tr>\n",
       "    <tr>\n",
       "      <th>1</th>\n",
       "      <td>IVV</td>\n",
       "      <td>May 15, 2000</td>\n",
       "    </tr>\n",
       "    <tr>\n",
       "      <th>2</th>\n",
       "      <td>VOO</td>\n",
       "      <td>Sep 07, 2010</td>\n",
       "    </tr>\n",
       "    <tr>\n",
       "      <th>3</th>\n",
       "      <td>VTI</td>\n",
       "      <td>May 24, 2001</td>\n",
       "    </tr>\n",
       "    <tr>\n",
       "      <th>4</th>\n",
       "      <td>QQQ</td>\n",
       "      <td>Mar 10, 1999</td>\n",
       "    </tr>\n",
       "    <tr>\n",
       "      <th>...</th>\n",
       "      <td>...</td>\n",
       "      <td>...</td>\n",
       "    </tr>\n",
       "    <tr>\n",
       "      <th>3132</th>\n",
       "      <td>BITW</td>\n",
       "      <td>Nov 22, 2017</td>\n",
       "    </tr>\n",
       "    <tr>\n",
       "      <th>3133</th>\n",
       "      <td>MAGX</td>\n",
       "      <td>Feb 29, 2024</td>\n",
       "    </tr>\n",
       "    <tr>\n",
       "      <th>3134</th>\n",
       "      <td>ULTY</td>\n",
       "      <td>Feb 29, 2024</td>\n",
       "    </tr>\n",
       "    <tr>\n",
       "      <th>3135</th>\n",
       "      <td>USDX</td>\n",
       "      <td>Feb 29, 2024</td>\n",
       "    </tr>\n",
       "    <tr>\n",
       "      <th>3136</th>\n",
       "      <td>MAGQ</td>\n",
       "      <td>Feb 29, 2024</td>\n",
       "    </tr>\n",
       "  </tbody>\n",
       "</table>\n",
       "<p>3137 rows × 2 columns</p>\n",
       "</div>"
      ],
      "text/plain": [
       "     Symbol     Inception\n",
       "0       SPY  Jan 22, 1993\n",
       "1       IVV  May 15, 2000\n",
       "2       VOO  Sep 07, 2010\n",
       "3       VTI  May 24, 2001\n",
       "4       QQQ  Mar 10, 1999\n",
       "...     ...           ...\n",
       "3132   BITW  Nov 22, 2017\n",
       "3133   MAGX  Feb 29, 2024\n",
       "3134   ULTY  Feb 29, 2024\n",
       "3135   USDX  Feb 29, 2024\n",
       "3136   MAGQ  Feb 29, 2024\n",
       "\n",
       "[3137 rows x 2 columns]"
      ]
     },
     "execution_count": 14,
     "metadata": {},
     "output_type": "execute_result"
    }
   ],
   "source": [
    "df[['Symbol','Inception']]"
   ]
  },
  {
   "cell_type": "code",
   "execution_count": 15,
   "id": "e940babb",
   "metadata": {
    "execution": {
     "iopub.execute_input": "2024-07-15T15:48:44.335959Z",
     "iopub.status.busy": "2024-07-15T15:48:44.335445Z",
     "iopub.status.idle": "2024-07-15T15:48:44.362491Z",
     "shell.execute_reply": "2024-07-15T15:48:44.361304Z"
    },
    "papermill": {
     "duration": 0.048948,
     "end_time": "2024-07-15T15:48:44.365394",
     "exception": false,
     "start_time": "2024-07-15T15:48:44.316446",
     "status": "completed"
    },
    "tags": []
   },
   "outputs": [
    {
     "data": {
      "text/plain": [
       "count   3087.00\n",
       "mean      45.42\n",
       "std       43.34\n",
       "min        0.95\n",
       "25%       24.79\n",
       "50%       33.24\n",
       "75%       50.31\n",
       "max      592.89\n",
       "Name: Price:, dtype: float64"
      ]
     },
     "execution_count": 15,
     "metadata": {},
     "output_type": "execute_result"
    }
   ],
   "source": [
    "df[df['Price:']!=\"-\"]['Price:'].dropna().map(lambda x: x[1:]).astype(float).describe()"
   ]
  },
  {
   "cell_type": "code",
   "execution_count": 16,
   "id": "a3f0a098",
   "metadata": {
    "execution": {
     "iopub.execute_input": "2024-07-15T15:48:44.406765Z",
     "iopub.status.busy": "2024-07-15T15:48:44.404765Z",
     "iopub.status.idle": "2024-07-15T15:48:44.418642Z",
     "shell.execute_reply": "2024-07-15T15:48:44.416948Z"
    },
    "papermill": {
     "duration": 0.038078,
     "end_time": "2024-07-15T15:48:44.422073",
     "exception": false,
     "start_time": "2024-07-15T15:48:44.383995",
     "status": "completed"
    },
    "tags": []
   },
   "outputs": [
    {
     "data": {
      "text/plain": [
       "0         $2.45 (0.0%)\n",
       "1         $2.42 (0.0%)\n",
       "2         $2.28 (0.0%)\n",
       "3         $1.11 (0.0%)\n",
       "4        $4.06 (0.01%)\n",
       "             ...      \n",
       "3132                 -\n",
       "3133     $1.11 (0.03%)\n",
       "3134     $0.13 (0.01%)\n",
       "3135      $0.07 (0.0%)\n",
       "3136    $0.58 (-0.03%)\n",
       "Name: Change:, Length: 3137, dtype: object"
      ]
     },
     "execution_count": 16,
     "metadata": {},
     "output_type": "execute_result"
    }
   ],
   "source": [
    "df['Change:']"
   ]
  },
  {
   "cell_type": "code",
   "execution_count": 17,
   "id": "18a48a34",
   "metadata": {
    "execution": {
     "iopub.execute_input": "2024-07-15T15:48:44.459462Z",
     "iopub.status.busy": "2024-07-15T15:48:44.458995Z",
     "iopub.status.idle": "2024-07-15T15:48:44.472434Z",
     "shell.execute_reply": "2024-07-15T15:48:44.471161Z"
    },
    "papermill": {
     "duration": 0.035904,
     "end_time": "2024-07-15T15:48:44.475992",
     "exception": false,
     "start_time": "2024-07-15T15:48:44.440088",
     "status": "completed"
    },
    "tags": []
   },
   "outputs": [
    {
     "data": {
      "text/plain": [
       "Category:\n",
       "Large Cap Growth Equities    197\n",
       "Large Cap Blend Equities     166\n",
       "All Cap Equities             135\n",
       "Volatility Hedged Equity     128\n",
       "Total Bond Market            121\n",
       "                            ... \n",
       "Transportation Equities        3\n",
       "Leveraged Volatility           2\n",
       "Metals                         2\n",
       "Leveraged Multi-Asset          2\n",
       "Closed                         1\n",
       "Name: count, Length: 73, dtype: int64"
      ]
     },
     "execution_count": 17,
     "metadata": {},
     "output_type": "execute_result"
    }
   ],
   "source": [
    "df['Category:'].value_counts()"
   ]
  },
  {
   "cell_type": "code",
   "execution_count": 18,
   "id": "5fe1a7d0",
   "metadata": {
    "execution": {
     "iopub.execute_input": "2024-07-15T15:48:44.513675Z",
     "iopub.status.busy": "2024-07-15T15:48:44.513276Z",
     "iopub.status.idle": "2024-07-15T15:48:44.521822Z",
     "shell.execute_reply": "2024-07-15T15:48:44.520621Z"
    },
    "papermill": {
     "duration": 0.030362,
     "end_time": "2024-07-15T15:48:44.524453",
     "exception": false,
     "start_time": "2024-07-15T15:48:44.494091",
     "status": "completed"
    },
    "tags": []
   },
   "outputs": [
    {
     "data": {
      "text/plain": [
       "\"{'SPY': '17.86', 'ETF Database Category Average': '14.95', 'FactSet Segment Average': '4.61'}\""
      ]
     },
     "execution_count": 18,
     "metadata": {},
     "output_type": "execute_result"
    }
   ],
   "source": [
    "df['P/E Ratio'][0]"
   ]
  },
  {
   "cell_type": "code",
   "execution_count": 19,
   "id": "dfb87fcc",
   "metadata": {
    "execution": {
     "iopub.execute_input": "2024-07-15T15:48:44.564478Z",
     "iopub.status.busy": "2024-07-15T15:48:44.563751Z",
     "iopub.status.idle": "2024-07-15T15:48:44.572967Z",
     "shell.execute_reply": "2024-07-15T15:48:44.571796Z"
    },
    "papermill": {
     "duration": 0.033583,
     "end_time": "2024-07-15T15:48:44.575778",
     "exception": false,
     "start_time": "2024-07-15T15:48:44.542195",
     "status": "completed"
    },
    "tags": []
   },
   "outputs": [
    {
     "data": {
      "text/plain": [
       "0       $545,741.0 M\n",
       "1       $497,954.0 M\n",
       "2       $478,357.0 M\n",
       "3       $413,613.0 M\n",
       "4       $293,122.0 M\n",
       "            ...     \n",
       "3132          $0.0 M\n",
       "3133         $10.1 M\n",
       "3134        $162.0 M\n",
       "3135        $102.8 M\n",
       "3136          $0.6 M\n",
       "Name: AUM, Length: 3137, dtype: object"
      ]
     },
     "execution_count": 19,
     "metadata": {},
     "output_type": "execute_result"
    }
   ],
   "source": [
    "df['AUM']"
   ]
  },
  {
   "cell_type": "code",
   "execution_count": 20,
   "id": "01a254ae",
   "metadata": {
    "execution": {
     "iopub.execute_input": "2024-07-15T15:48:44.612756Z",
     "iopub.status.busy": "2024-07-15T15:48:44.612376Z",
     "iopub.status.idle": "2024-07-15T15:48:44.622106Z",
     "shell.execute_reply": "2024-07-15T15:48:44.620877Z"
    },
    "papermill": {
     "duration": 0.031505,
     "end_time": "2024-07-15T15:48:44.624519",
     "exception": false,
     "start_time": "2024-07-15T15:48:44.593014",
     "status": "completed"
    },
    "tags": []
   },
   "outputs": [
    {
     "data": {
      "text/plain": [
       "0         994.4 M\n",
       "1         902.5 M\n",
       "2         948.4 M\n",
       "3       1,534.5 M\n",
       "4         602.0 M\n",
       "          ...    \n",
       "3132        0.0 M\n",
       "3133        0.3 M\n",
       "3134       11.9 M\n",
       "3135        4.1 M\n",
       "3136        0.0 M\n",
       "Name: Shares, Length: 3137, dtype: object"
      ]
     },
     "execution_count": 20,
     "metadata": {},
     "output_type": "execute_result"
    }
   ],
   "source": [
    "df['Shares']"
   ]
  },
  {
   "cell_type": "code",
   "execution_count": 21,
   "id": "fff1e4d5",
   "metadata": {
    "execution": {
     "iopub.execute_input": "2024-07-15T15:48:44.662028Z",
     "iopub.status.busy": "2024-07-15T15:48:44.661577Z",
     "iopub.status.idle": "2024-07-15T15:48:44.672778Z",
     "shell.execute_reply": "2024-07-15T15:48:44.671489Z"
    },
    "papermill": {
     "duration": 0.033334,
     "end_time": "2024-07-15T15:48:44.675722",
     "exception": false,
     "start_time": "2024-07-15T15:48:44.642388",
     "status": "completed"
    },
    "tags": []
   },
   "outputs": [
    {
     "data": {
      "text/plain": [
       "Category\n",
       "Size and Style                           1515\n",
       "Sector                                    768\n",
       "Corporate, Broad-based                    154\n",
       "Broad Market, Broad-based                 142\n",
       "Asset Allocation                          123\n",
       "Government, Treasury                       72\n",
       "Government, Local Authority/Municipal      66\n",
       "High Dividend Yield                        52\n",
       "Hedge Fund Strategies                      28\n",
       "Precious Metals                            28\n",
       "Pair                                       26\n",
       "Broad Market                               23\n",
       "Corporate, Preferred                       22\n",
       "Energy                                     18\n",
       "Government, Inflation-linked               18\n",
       "Tactical Tools                             15\n",
       "Corporate, Bank Loans                      13\n",
       "Basket                                      8\n",
       "Agriculture                                 7\n",
       "Broad Market, Asset-backed                  7\n",
       "Government, Non-native currency             7\n",
       "Government, Mortgage-backed                 6\n",
       "Corporate, Convertible                      5\n",
       "Industrial Metals                           4\n",
       "Government, Broad-based                     3\n",
       "Metals                                      2\n",
       "Government, Agency                          1\n",
       "Corporate, Asset-backed                     1\n",
       "Name: count, dtype: int64"
      ]
     },
     "execution_count": 21,
     "metadata": {},
     "output_type": "execute_result"
    }
   ],
   "source": [
    "df['Category'].value_counts()"
   ]
  },
  {
   "cell_type": "code",
   "execution_count": 22,
   "id": "2415a59b",
   "metadata": {
    "execution": {
     "iopub.execute_input": "2024-07-15T15:48:44.713580Z",
     "iopub.status.busy": "2024-07-15T15:48:44.713182Z",
     "iopub.status.idle": "2024-07-15T15:48:44.724462Z",
     "shell.execute_reply": "2024-07-15T15:48:44.722658Z"
    },
    "papermill": {
     "duration": 0.033132,
     "end_time": "2024-07-15T15:48:44.727481",
     "exception": false,
     "start_time": "2024-07-15T15:48:44.694349",
     "status": "completed"
    },
    "tags": []
   },
   "outputs": [
    {
     "data": {
      "text/plain": [
       "Asset Class\n",
       "Equity             2274\n",
       "Bond                499\n",
       "Multi-Asset         147\n",
       "Commodity            80\n",
       "Real Estate          43\n",
       "Currency             34\n",
       "Alternatives         32\n",
       "Preferred Stock      16\n",
       "Volatility           12\n",
       "Name: count, dtype: int64"
      ]
     },
     "execution_count": 22,
     "metadata": {},
     "output_type": "execute_result"
    }
   ],
   "source": [
    "df['Asset Class'].value_counts()"
   ]
  },
  {
   "cell_type": "code",
   "execution_count": 23,
   "id": "b769d14d",
   "metadata": {
    "execution": {
     "iopub.execute_input": "2024-07-15T15:48:44.764840Z",
     "iopub.status.busy": "2024-07-15T15:48:44.764433Z",
     "iopub.status.idle": "2024-07-15T15:48:44.774358Z",
     "shell.execute_reply": "2024-07-15T15:48:44.773150Z"
    },
    "papermill": {
     "duration": 0.047497,
     "end_time": "2024-07-15T15:48:44.792716",
     "exception": false,
     "start_time": "2024-07-15T15:48:44.745219",
     "status": "completed"
    },
    "tags": []
   },
   "outputs": [
    {
     "data": {
      "text/plain": [
       "Asset Class Size\n",
       "Large-Cap    890\n",
       "Multi-Cap    848\n",
       "Small-Cap    100\n",
       "Mid-Cap       72\n",
       "Micro-Cap     54\n",
       "Mega-Cap      12\n",
       "Name: count, dtype: int64"
      ]
     },
     "execution_count": 23,
     "metadata": {},
     "output_type": "execute_result"
    }
   ],
   "source": [
    "df['Asset Class Size'].value_counts()"
   ]
  },
  {
   "cell_type": "code",
   "execution_count": 24,
   "id": "3d7f3c18",
   "metadata": {
    "execution": {
     "iopub.execute_input": "2024-07-15T15:48:44.830839Z",
     "iopub.status.busy": "2024-07-15T15:48:44.829964Z",
     "iopub.status.idle": "2024-07-15T15:48:44.839855Z",
     "shell.execute_reply": "2024-07-15T15:48:44.838479Z"
    },
    "papermill": {
     "duration": 0.031953,
     "end_time": "2024-07-15T15:48:44.842446",
     "exception": false,
     "start_time": "2024-07-15T15:48:44.810493",
     "status": "completed"
    },
    "tags": []
   },
   "outputs": [
    {
     "data": {
      "text/plain": [
       "Asset Class Style\n",
       "Blend     1196\n",
       "Growth     335\n",
       "Value      130\n",
       "Name: count, dtype: int64"
      ]
     },
     "execution_count": 24,
     "metadata": {},
     "output_type": "execute_result"
    }
   ],
   "source": [
    "df['Asset Class Style'].value_counts()"
   ]
  },
  {
   "cell_type": "code",
   "execution_count": 25,
   "id": "e9930c92",
   "metadata": {
    "execution": {
     "iopub.execute_input": "2024-07-15T15:48:44.944029Z",
     "iopub.status.busy": "2024-07-15T15:48:44.943593Z",
     "iopub.status.idle": "2024-07-15T15:48:44.956190Z",
     "shell.execute_reply": "2024-07-15T15:48:44.954223Z"
    },
    "papermill": {
     "duration": 0.035431,
     "end_time": "2024-07-15T15:48:44.958807",
     "exception": false,
     "start_time": "2024-07-15T15:48:44.923376",
     "status": "completed"
    },
    "tags": []
   },
   "outputs": [
    {
     "data": {
      "text/plain": [
       "Segment\n",
       "Equity: U.S.  -  Large Cap                                                                 409\n",
       "Equity: U.S.  -  Total Market                                                              174\n",
       "Equity: U.S.  -  Small Cap                                                                  69\n",
       "Equity: Emerging Markets  -  Total Market                                                   69\n",
       "Asset Allocation: Global Target Outcome                                                     68\n",
       "                                                                                          ... \n",
       "Fixed Income:Developed Markets Ex-U.S. Government, Treasury Investment Grade Short-Term      1\n",
       "Equity: France  -  Total Market                                                              1\n",
       "Equity: Qatar  - Total Market                                                                1\n",
       "Fixed Income: U.S. - Government, Agency Investment Grade                                     1\n",
       "Fixed Income: Global - Broad Market, Broad-based Ultra-Short Term                            1\n",
       "Name: count, Length: 595, dtype: int64"
      ]
     },
     "execution_count": 25,
     "metadata": {},
     "output_type": "execute_result"
    }
   ],
   "source": [
    "df['Segment'].value_counts()"
   ]
  },
  {
   "cell_type": "code",
   "execution_count": 26,
   "id": "a8f9b2c8",
   "metadata": {
    "execution": {
     "iopub.execute_input": "2024-07-15T15:48:44.997750Z",
     "iopub.status.busy": "2024-07-15T15:48:44.996806Z",
     "iopub.status.idle": "2024-07-15T15:48:45.007777Z",
     "shell.execute_reply": "2024-07-15T15:48:45.006664Z"
    },
    "papermill": {
     "duration": 0.033786,
     "end_time": "2024-07-15T15:48:45.010647",
     "exception": false,
     "start_time": "2024-07-15T15:48:44.976861",
     "status": "completed"
    },
    "tags": []
   },
   "outputs": [
    {
     "data": {
      "text/plain": [
       "Focus\n",
       "Total Market                     664\n",
       "Large Cap                        598\n",
       "Investment Grade                 302\n",
       "Theme                            296\n",
       "Small Cap                        147\n",
       "                                ... \n",
       "Long USD, Short Global Basket      1\n",
       "Micro Cap                          1\n",
       "Palladium                          1\n",
       "Long USD, Short G10 Basket         1\n",
       "Long USD, Short ETH                1\n",
       "Name: count, Length: 62, dtype: int64"
      ]
     },
     "execution_count": 26,
     "metadata": {},
     "output_type": "execute_result"
    }
   ],
   "source": [
    "df['Focus'].value_counts()"
   ]
  },
  {
   "cell_type": "code",
   "execution_count": 27,
   "id": "3bb9795f",
   "metadata": {
    "execution": {
     "iopub.execute_input": "2024-07-15T15:48:45.048972Z",
     "iopub.status.busy": "2024-07-15T15:48:45.048536Z",
     "iopub.status.idle": "2024-07-15T15:48:45.059964Z",
     "shell.execute_reply": "2024-07-15T15:48:45.058764Z"
    },
    "papermill": {
     "duration": 0.033763,
     "end_time": "2024-07-15T15:48:45.062636",
     "exception": false,
     "start_time": "2024-07-15T15:48:45.028873",
     "status": "completed"
    },
    "tags": []
   },
   "outputs": [
    {
     "data": {
      "text/plain": [
       "Niche\n",
       "Broad-based                         1540\n",
       "Broad Maturities                     263\n",
       "Value                                123\n",
       "Growth                               105\n",
       "Intermediate                          83\n",
       "                                    ... \n",
       "Oil & Gas Equipment & Services         1\n",
       "Health Care Equipment & Supplies       1\n",
       "Steel Producers                        1\n",
       "Market Neutral                         1\n",
       "Global Macro                           1\n",
       "Name: count, Length: 126, dtype: int64"
      ]
     },
     "execution_count": 27,
     "metadata": {},
     "output_type": "execute_result"
    }
   ],
   "source": [
    "df['Niche'].value_counts()"
   ]
  },
  {
   "cell_type": "code",
   "execution_count": 28,
   "id": "c0292f84",
   "metadata": {
    "execution": {
     "iopub.execute_input": "2024-07-15T15:48:45.101115Z",
     "iopub.status.busy": "2024-07-15T15:48:45.100695Z",
     "iopub.status.idle": "2024-07-15T15:48:45.111208Z",
     "shell.execute_reply": "2024-07-15T15:48:45.109970Z"
    },
    "papermill": {
     "duration": 0.032695,
     "end_time": "2024-07-15T15:48:45.113724",
     "exception": false,
     "start_time": "2024-07-15T15:48:45.081029",
     "status": "completed"
    },
    "tags": []
   },
   "outputs": [
    {
     "data": {
      "text/plain": [
       "Strategy\n",
       "Active                    920\n",
       "Vanilla                   865\n",
       "Buy-write                 268\n",
       "Multi-factor              247\n",
       "Fundamental               167\n",
       "ESG                       126\n",
       "Equal                     105\n",
       "Dividends                  77\n",
       "Growth                     54\n",
       "Bullet Maturity            53\n",
       "Value                      53\n",
       "Momentum                   33\n",
       "Exchange-specific          27\n",
       "Low Volatility             17\n",
       "Technical                  16\n",
       "Optimized commodity        15\n",
       "Fixed Asset Allocation     12\n",
       "Laddered                   12\n",
       "Volatility Hedged          11\n",
       "Target Duration            11\n",
       "Duration Hedged             9\n",
       "Options Collar              9\n",
       "Price-weighted              6\n",
       "Extended Term               6\n",
       "Time Since Launch           5\n",
       "Copycat                     5\n",
       "Inflation Hedged            4\n",
       "Long-Short                  1\n",
       "Name: count, dtype: int64"
      ]
     },
     "execution_count": 28,
     "metadata": {},
     "output_type": "execute_result"
    }
   ],
   "source": [
    "df['Strategy'].value_counts()"
   ]
  },
  {
   "cell_type": "markdown",
   "id": "172673e7",
   "metadata": {
    "papermill": {
     "duration": 0.019309,
     "end_time": "2024-07-15T15:48:45.151630",
     "exception": false,
     "start_time": "2024-07-15T15:48:45.132321",
     "status": "completed"
    },
    "tags": []
   },
   "source": [
    "# Analyse Single ETF - SPY\n",
    "\n",
    "The SPDR S&P 500 ETF trust is an exchange-traded fund which trades on the NYSE Arca under the symbol SPY. SPDR is an acronym for the Standard & Poor's Depositary Receipts, the former name of the ETF. It is designed to track the S&P 500 stock market index. This fund is the largest and oldest ETF in the USA. https://en.wikipedia.org/wiki/SPDR_S%26P_500_Trust_ETF"
   ]
  },
  {
   "cell_type": "code",
   "execution_count": 29,
   "id": "00d7a0d9",
   "metadata": {
    "execution": {
     "iopub.execute_input": "2024-07-15T15:48:45.193345Z",
     "iopub.status.busy": "2024-07-15T15:48:45.192854Z",
     "iopub.status.idle": "2024-07-15T15:48:45.902228Z",
     "shell.execute_reply": "2024-07-15T15:48:45.900970Z"
    },
    "papermill": {
     "duration": 0.733795,
     "end_time": "2024-07-15T15:48:45.905448",
     "exception": false,
     "start_time": "2024-07-15T15:48:45.171653",
     "status": "completed"
    },
    "tags": []
   },
   "outputs": [],
   "source": [
    "spy = ETF(\"SPY\")\n",
    "spy_tabular = spy.to_tabular()"
   ]
  },
  {
   "cell_type": "code",
   "execution_count": 30,
   "id": "22ccdc2f",
   "metadata": {
    "execution": {
     "iopub.execute_input": "2024-07-15T15:48:45.947865Z",
     "iopub.status.busy": "2024-07-15T15:48:45.947450Z",
     "iopub.status.idle": "2024-07-15T15:48:45.980508Z",
     "shell.execute_reply": "2024-07-15T15:48:45.979352Z"
    },
    "papermill": {
     "duration": 0.056943,
     "end_time": "2024-07-15T15:48:45.983213",
     "exception": false,
     "start_time": "2024-07-15T15:48:45.926270",
     "status": "completed"
    },
    "tags": []
   },
   "outputs": [
    {
     "data": {
      "text/html": [
       "<div>\n",
       "<style scoped>\n",
       "    .dataframe tbody tr th:only-of-type {\n",
       "        vertical-align: middle;\n",
       "    }\n",
       "\n",
       "    .dataframe tbody tr th {\n",
       "        vertical-align: top;\n",
       "    }\n",
       "\n",
       "    .dataframe thead th {\n",
       "        text-align: right;\n",
       "    }\n",
       "</style>\n",
       "<table border=\"1\" class=\"dataframe\">\n",
       "  <thead>\n",
       "    <tr style=\"text-align: right;\">\n",
       "      <th></th>\n",
       "      <th>metric</th>\n",
       "      <th>value</th>\n",
       "    </tr>\n",
       "  </thead>\n",
       "  <tbody>\n",
       "    <tr>\n",
       "      <th>0</th>\n",
       "      <td>Electronic Technology</td>\n",
       "      <td>22.57</td>\n",
       "    </tr>\n",
       "    <tr>\n",
       "      <th>1</th>\n",
       "      <td>Technology Services</td>\n",
       "      <td>20.38</td>\n",
       "    </tr>\n",
       "    <tr>\n",
       "      <th>2</th>\n",
       "      <td>Finance</td>\n",
       "      <td>11.80</td>\n",
       "    </tr>\n",
       "    <tr>\n",
       "      <th>3</th>\n",
       "      <td>Health Technology</td>\n",
       "      <td>8.98</td>\n",
       "    </tr>\n",
       "    <tr>\n",
       "      <th>4</th>\n",
       "      <td>Retail Trade</td>\n",
       "      <td>7.85</td>\n",
       "    </tr>\n",
       "    <tr>\n",
       "      <th>5</th>\n",
       "      <td>Consumer Non-Durables</td>\n",
       "      <td>3.96</td>\n",
       "    </tr>\n",
       "    <tr>\n",
       "      <th>6</th>\n",
       "      <td>Producer Manufacturing</td>\n",
       "      <td>3.55</td>\n",
       "    </tr>\n",
       "    <tr>\n",
       "      <th>7</th>\n",
       "      <td>Consumer Services</td>\n",
       "      <td>2.84</td>\n",
       "    </tr>\n",
       "    <tr>\n",
       "      <th>8</th>\n",
       "      <td>Energy Minerals</td>\n",
       "      <td>2.83</td>\n",
       "    </tr>\n",
       "    <tr>\n",
       "      <th>9</th>\n",
       "      <td>Commercial Services</td>\n",
       "      <td>2.59</td>\n",
       "    </tr>\n",
       "    <tr>\n",
       "      <th>10</th>\n",
       "      <td>Utilities</td>\n",
       "      <td>2.30</td>\n",
       "    </tr>\n",
       "    <tr>\n",
       "      <th>11</th>\n",
       "      <td>Consumer Durables</td>\n",
       "      <td>2.13</td>\n",
       "    </tr>\n",
       "    <tr>\n",
       "      <th>12</th>\n",
       "      <td>Health Services</td>\n",
       "      <td>1.98</td>\n",
       "    </tr>\n",
       "    <tr>\n",
       "      <th>13</th>\n",
       "      <td>Process Industries</td>\n",
       "      <td>1.56</td>\n",
       "    </tr>\n",
       "    <tr>\n",
       "      <th>14</th>\n",
       "      <td>Transportation</td>\n",
       "      <td>1.49</td>\n",
       "    </tr>\n",
       "    <tr>\n",
       "      <th>15</th>\n",
       "      <td>Industrial Services</td>\n",
       "      <td>0.88</td>\n",
       "    </tr>\n",
       "    <tr>\n",
       "      <th>16</th>\n",
       "      <td>Communications</td>\n",
       "      <td>0.84</td>\n",
       "    </tr>\n",
       "    <tr>\n",
       "      <th>17</th>\n",
       "      <td>Distribution Services</td>\n",
       "      <td>0.62</td>\n",
       "    </tr>\n",
       "    <tr>\n",
       "      <th>18</th>\n",
       "      <td>Non-Energy Minerals</td>\n",
       "      <td>0.57</td>\n",
       "    </tr>\n",
       "    <tr>\n",
       "      <th>19</th>\n",
       "      <td>CASH</td>\n",
       "      <td>0.34</td>\n",
       "    </tr>\n",
       "  </tbody>\n",
       "</table>\n",
       "</div>"
      ],
      "text/plain": [
       "                    metric  value\n",
       "0    Electronic Technology  22.57\n",
       "1      Technology Services  20.38\n",
       "2                  Finance  11.80\n",
       "3        Health Technology   8.98\n",
       "4             Retail Trade   7.85\n",
       "5    Consumer Non-Durables   3.96\n",
       "6   Producer Manufacturing   3.55\n",
       "7        Consumer Services   2.84\n",
       "8          Energy Minerals   2.83\n",
       "9      Commercial Services   2.59\n",
       "10               Utilities   2.30\n",
       "11       Consumer Durables   2.13\n",
       "12         Health Services   1.98\n",
       "13      Process Industries   1.56\n",
       "14          Transportation   1.49\n",
       "15     Industrial Services   0.88\n",
       "16          Communications   0.84\n",
       "17   Distribution Services   0.62\n",
       "18     Non-Energy Minerals   0.57\n",
       "19                    CASH   0.34"
      ]
     },
     "execution_count": 30,
     "metadata": {},
     "output_type": "execute_result"
    }
   ],
   "source": [
    "spy_tabular.exposure_by_sector"
   ]
  },
  {
   "cell_type": "code",
   "execution_count": 31,
   "id": "ffc707fa",
   "metadata": {
    "execution": {
     "iopub.execute_input": "2024-07-15T15:48:46.024029Z",
     "iopub.status.busy": "2024-07-15T15:48:46.022943Z",
     "iopub.status.idle": "2024-07-15T15:48:46.097041Z",
     "shell.execute_reply": "2024-07-15T15:48:46.095842Z"
    },
    "papermill": {
     "duration": 0.097676,
     "end_time": "2024-07-15T15:48:46.099859",
     "exception": false,
     "start_time": "2024-07-15T15:48:46.002183",
     "status": "completed"
    },
    "tags": []
   },
   "outputs": [
    {
     "data": {
      "text/html": [
       "<div>\n",
       "<style scoped>\n",
       "    .dataframe tbody tr th:only-of-type {\n",
       "        vertical-align: middle;\n",
       "    }\n",
       "\n",
       "    .dataframe tbody tr th {\n",
       "        vertical-align: top;\n",
       "    }\n",
       "\n",
       "    .dataframe thead th {\n",
       "        text-align: right;\n",
       "    }\n",
       "</style>\n",
       "<table border=\"1\" class=\"dataframe\">\n",
       "  <thead>\n",
       "    <tr style=\"text-align: right;\">\n",
       "      <th></th>\n",
       "      <th>metric</th>\n",
       "      <th>value</th>\n",
       "    </tr>\n",
       "  </thead>\n",
       "  <tbody>\n",
       "    <tr>\n",
       "      <th>0</th>\n",
       "      <td>Expense Ratio (%)</td>\n",
       "      <td>0.09</td>\n",
       "    </tr>\n",
       "    <tr>\n",
       "      <th>1</th>\n",
       "      <td>Price ($)</td>\n",
       "      <td>559.99</td>\n",
       "    </tr>\n",
       "    <tr>\n",
       "      <th>2</th>\n",
       "      <td>Change ($)</td>\n",
       "      <td>3.51</td>\n",
       "    </tr>\n",
       "    <tr>\n",
       "      <th>3</th>\n",
       "      <td>P/E Ratio</td>\n",
       "      <td>17.86</td>\n",
       "    </tr>\n",
       "    <tr>\n",
       "      <th>4</th>\n",
       "      <td>52 Week Lo ($)</td>\n",
       "      <td>404.99</td>\n",
       "    </tr>\n",
       "    <tr>\n",
       "      <th>5</th>\n",
       "      <td>52 Week Hi ($)</td>\n",
       "      <td>563.67</td>\n",
       "    </tr>\n",
       "    <tr>\n",
       "      <th>6</th>\n",
       "      <td>AUM ($)</td>\n",
       "      <td>556694000000.00</td>\n",
       "    </tr>\n",
       "    <tr>\n",
       "      <th>7</th>\n",
       "      <td>Shares</td>\n",
       "      <td>991500000.00</td>\n",
       "    </tr>\n",
       "  </tbody>\n",
       "</table>\n",
       "</div>"
      ],
      "text/plain": [
       "              metric           value\n",
       "0  Expense Ratio (%)            0.09\n",
       "1          Price ($)          559.99\n",
       "2         Change ($)            3.51\n",
       "3          P/E Ratio           17.86\n",
       "4     52 Week Lo ($)          404.99\n",
       "5     52 Week Hi ($)          563.67\n",
       "6            AUM ($) 556694000000.00\n",
       "7             Shares    991500000.00"
      ]
     },
     "execution_count": 31,
     "metadata": {},
     "output_type": "execute_result"
    }
   ],
   "source": [
    "spy_tabular.info_numeric"
   ]
  },
  {
   "cell_type": "code",
   "execution_count": 32,
   "id": "e89eabd9",
   "metadata": {
    "execution": {
     "iopub.execute_input": "2024-07-15T15:48:46.140458Z",
     "iopub.status.busy": "2024-07-15T15:48:46.140053Z",
     "iopub.status.idle": "2024-07-15T15:48:46.576530Z",
     "shell.execute_reply": "2024-07-15T15:48:46.575294Z"
    },
    "papermill": {
     "duration": 0.46046,
     "end_time": "2024-07-15T15:48:46.579560",
     "exception": false,
     "start_time": "2024-07-15T15:48:46.119100",
     "status": "completed"
    },
    "tags": []
   },
   "outputs": [
    {
     "data": {
      "text/html": [
       "<div>\n",
       "<style scoped>\n",
       "    .dataframe tbody tr th:only-of-type {\n",
       "        vertical-align: middle;\n",
       "    }\n",
       "\n",
       "    .dataframe tbody tr th {\n",
       "        vertical-align: top;\n",
       "    }\n",
       "\n",
       "    .dataframe thead th {\n",
       "        text-align: right;\n",
       "    }\n",
       "</style>\n",
       "<table border=\"1\" class=\"dataframe\">\n",
       "  <thead>\n",
       "    <tr style=\"text-align: right;\">\n",
       "      <th></th>\n",
       "      <th>symbol</th>\n",
       "      <th>date</th>\n",
       "      <th>open</th>\n",
       "      <th>high</th>\n",
       "      <th>low</th>\n",
       "      <th>close</th>\n",
       "      <th>volume</th>\n",
       "    </tr>\n",
       "  </thead>\n",
       "  <tbody>\n",
       "    <tr>\n",
       "      <th>0</th>\n",
       "      <td>SPY</td>\n",
       "      <td>2023-01-31</td>\n",
       "      <td>401.13</td>\n",
       "      <td>406.53</td>\n",
       "      <td>400.77</td>\n",
       "      <td>406.48</td>\n",
       "      <td>86811700</td>\n",
       "    </tr>\n",
       "    <tr>\n",
       "      <th>1</th>\n",
       "      <td>SPY</td>\n",
       "      <td>2023-02-01</td>\n",
       "      <td>405.21</td>\n",
       "      <td>413.67</td>\n",
       "      <td>402.35</td>\n",
       "      <td>410.80</td>\n",
       "      <td>101459100</td>\n",
       "    </tr>\n",
       "    <tr>\n",
       "      <th>2</th>\n",
       "      <td>SPY</td>\n",
       "      <td>2023-02-02</td>\n",
       "      <td>414.86</td>\n",
       "      <td>418.31</td>\n",
       "      <td>412.88</td>\n",
       "      <td>416.78</td>\n",
       "      <td>101654400</td>\n",
       "    </tr>\n",
       "    <tr>\n",
       "      <th>3</th>\n",
       "      <td>SPY</td>\n",
       "      <td>2023-02-03</td>\n",
       "      <td>411.59</td>\n",
       "      <td>416.97</td>\n",
       "      <td>411.09</td>\n",
       "      <td>412.35</td>\n",
       "      <td>94736700</td>\n",
       "    </tr>\n",
       "    <tr>\n",
       "      <th>4</th>\n",
       "      <td>SPY</td>\n",
       "      <td>2023-02-06</td>\n",
       "      <td>409.79</td>\n",
       "      <td>411.29</td>\n",
       "      <td>408.10</td>\n",
       "      <td>409.83</td>\n",
       "      <td>60295300</td>\n",
       "    </tr>\n",
       "    <tr>\n",
       "      <th>...</th>\n",
       "      <td>...</td>\n",
       "      <td>...</td>\n",
       "      <td>...</td>\n",
       "      <td>...</td>\n",
       "      <td>...</td>\n",
       "      <td>...</td>\n",
       "      <td>...</td>\n",
       "    </tr>\n",
       "    <tr>\n",
       "      <th>360</th>\n",
       "      <td>SPY</td>\n",
       "      <td>2024-07-09</td>\n",
       "      <td>556.26</td>\n",
       "      <td>557.18</td>\n",
       "      <td>555.52</td>\n",
       "      <td>555.82</td>\n",
       "      <td>27314125</td>\n",
       "    </tr>\n",
       "    <tr>\n",
       "      <th>361</th>\n",
       "      <td>SPY</td>\n",
       "      <td>2024-07-10</td>\n",
       "      <td>557.07</td>\n",
       "      <td>561.67</td>\n",
       "      <td>556.77</td>\n",
       "      <td>561.32</td>\n",
       "      <td>38701200</td>\n",
       "    </tr>\n",
       "    <tr>\n",
       "      <th>362</th>\n",
       "      <td>SPY</td>\n",
       "      <td>2024-07-11</td>\n",
       "      <td>561.44</td>\n",
       "      <td>562.33</td>\n",
       "      <td>555.83</td>\n",
       "      <td>556.48</td>\n",
       "      <td>53054100</td>\n",
       "    </tr>\n",
       "    <tr>\n",
       "      <th>363</th>\n",
       "      <td>SPY</td>\n",
       "      <td>2024-07-12</td>\n",
       "      <td>557.63</td>\n",
       "      <td>563.67</td>\n",
       "      <td>557.15</td>\n",
       "      <td>559.99</td>\n",
       "      <td>53084400</td>\n",
       "    </tr>\n",
       "    <tr>\n",
       "      <th>364</th>\n",
       "      <td>SPY</td>\n",
       "      <td>2024-07-15</td>\n",
       "      <td>562.03</td>\n",
       "      <td>564.84</td>\n",
       "      <td>561.39</td>\n",
       "      <td>563.72</td>\n",
       "      <td>11945652</td>\n",
       "    </tr>\n",
       "  </tbody>\n",
       "</table>\n",
       "<p>365 rows × 7 columns</p>\n",
       "</div>"
      ],
      "text/plain": [
       "    symbol        date   open   high    low  close     volume\n",
       "0      SPY  2023-01-31 401.13 406.53 400.77 406.48   86811700\n",
       "1      SPY  2023-02-01 405.21 413.67 402.35 410.80  101459100\n",
       "2      SPY  2023-02-02 414.86 418.31 412.88 416.78  101654400\n",
       "3      SPY  2023-02-03 411.59 416.97 411.09 412.35   94736700\n",
       "4      SPY  2023-02-06 409.79 411.29 408.10 409.83   60295300\n",
       "..     ...         ...    ...    ...    ...    ...        ...\n",
       "360    SPY  2024-07-09 556.26 557.18 555.52 555.82   27314125\n",
       "361    SPY  2024-07-10 557.07 561.67 556.77 561.32   38701200\n",
       "362    SPY  2024-07-11 561.44 562.33 555.83 556.48   53054100\n",
       "363    SPY  2024-07-12 557.63 563.67 557.15 559.99   53084400\n",
       "364    SPY  2024-07-15 562.03 564.84 561.39 563.72   11945652\n",
       "\n",
       "[365 rows x 7 columns]"
      ]
     },
     "execution_count": 32,
     "metadata": {},
     "output_type": "execute_result"
    }
   ],
   "source": [
    "spy_tabular.get_quotes(interval=\"daily\", periods=365)"
   ]
  },
  {
   "cell_type": "markdown",
   "id": "db7ac8d9",
   "metadata": {
    "papermill": {
     "duration": 0.020627,
     "end_time": "2024-07-15T15:48:46.621693",
     "exception": false,
     "start_time": "2024-07-15T15:48:46.601066",
     "status": "completed"
    },
    "tags": []
   },
   "source": [
    "# Trading ETFs - Examples from Literature"
   ]
  },
  {
   "cell_type": "code",
   "execution_count": 33,
   "id": "eb02b804",
   "metadata": {
    "execution": {
     "iopub.execute_input": "2024-07-15T15:48:46.664462Z",
     "iopub.status.busy": "2024-07-15T15:48:46.664058Z",
     "iopub.status.idle": "2024-07-15T15:48:48.435903Z",
     "shell.execute_reply": "2024-07-15T15:48:48.434626Z"
    },
    "papermill": {
     "duration": 1.795987,
     "end_time": "2024-07-15T15:48:48.438731",
     "exception": false,
     "start_time": "2024-07-15T15:48:46.642744",
     "status": "completed"
    },
    "tags": []
   },
   "outputs": [],
   "source": [
    "# Lin, W., & Wu, S. (2023). Predicting S&P 500 Index ETF (SPY) During COVID-19 via K-Nearest Neighbors (KNN) Algorithm. \n",
    "# Journal of Accounting and Finance, 23(2). https://articlearchives.co/index.php/JAF/article/view/5775\n",
    "\n",
    "# The paper uses SPY to proxy for the S&P 500 index, DIA for the Dow & Jones Index, and QQQ for the NASDAQ index.\n",
    "\n",
    "# In this paper, the KNN algorithms (models) include \n",
    "# 1) HL_SPY model using daily High-Low prices of SPY as the predictors; \n",
    "# 2) HL_SPY_DIA model using High-Low prices of SPY and DIA; \n",
    "# 3) HL_SPY_QQQ model using High-Low prices of SPY and QQQ; \n",
    "# 4) HL_SPY_DIA_QQQ model using High-Low prices of SPY, DIA and QQQ. \n",
    "# The K is identified by using GridSearchCV from the Sklearn.\n",
    "\n",
    "spy = ETF(\"SPY\")\n",
    "spy_tabular = spy.to_tabular()\n",
    "\n",
    "dia = ETF(\"DIA\")\n",
    "dia_tabular = dia.to_tabular()\n",
    "\n",
    "qqq = ETF(\"QQQ\")\n",
    "qqq_tabular = qqq.to_tabular()"
   ]
  },
  {
   "cell_type": "code",
   "execution_count": 34,
   "id": "afa22c2f",
   "metadata": {
    "execution": {
     "iopub.execute_input": "2024-07-15T15:48:48.481369Z",
     "iopub.status.busy": "2024-07-15T15:48:48.480992Z",
     "iopub.status.idle": "2024-07-15T15:48:49.103740Z",
     "shell.execute_reply": "2024-07-15T15:48:49.102517Z"
    },
    "papermill": {
     "duration": 0.646598,
     "end_time": "2024-07-15T15:48:49.106390",
     "exception": false,
     "start_time": "2024-07-15T15:48:48.459792",
     "status": "completed"
    },
    "tags": []
   },
   "outputs": [
    {
     "data": {
      "text/html": [
       "<div>\n",
       "<style scoped>\n",
       "    .dataframe tbody tr th:only-of-type {\n",
       "        vertical-align: middle;\n",
       "    }\n",
       "\n",
       "    .dataframe tbody tr th {\n",
       "        vertical-align: top;\n",
       "    }\n",
       "\n",
       "    .dataframe thead th {\n",
       "        text-align: right;\n",
       "    }\n",
       "</style>\n",
       "<table border=\"1\" class=\"dataframe\">\n",
       "  <thead>\n",
       "    <tr style=\"text-align: right;\">\n",
       "      <th></th>\n",
       "      <th>high</th>\n",
       "      <th>low</th>\n",
       "    </tr>\n",
       "  </thead>\n",
       "  <tbody>\n",
       "    <tr>\n",
       "      <th>count</th>\n",
       "      <td>569.00</td>\n",
       "      <td>569.00</td>\n",
       "    </tr>\n",
       "    <tr>\n",
       "      <th>mean</th>\n",
       "      <td>392.12</td>\n",
       "      <td>386.58</td>\n",
       "    </tr>\n",
       "    <tr>\n",
       "      <th>std</th>\n",
       "      <td>59.43</td>\n",
       "      <td>60.12</td>\n",
       "    </tr>\n",
       "    <tr>\n",
       "      <th>min</th>\n",
       "      <td>229.68</td>\n",
       "      <td>218.26</td>\n",
       "    </tr>\n",
       "    <tr>\n",
       "      <th>25%</th>\n",
       "      <td>342.98</td>\n",
       "      <td>338.09</td>\n",
       "    </tr>\n",
       "    <tr>\n",
       "      <th>50%</th>\n",
       "      <td>407.24</td>\n",
       "      <td>403.38</td>\n",
       "    </tr>\n",
       "    <tr>\n",
       "      <th>75%</th>\n",
       "      <td>441.60</td>\n",
       "      <td>437.19</td>\n",
       "    </tr>\n",
       "    <tr>\n",
       "      <th>max</th>\n",
       "      <td>479.98</td>\n",
       "      <td>476.06</td>\n",
       "    </tr>\n",
       "  </tbody>\n",
       "</table>\n",
       "</div>"
      ],
      "text/plain": [
       "        high    low\n",
       "count 569.00 569.00\n",
       "mean  392.12 386.58\n",
       "std    59.43  60.12\n",
       "min   229.68 218.26\n",
       "25%   342.98 338.09\n",
       "50%   407.24 403.38\n",
       "75%   441.60 437.19\n",
       "max   479.98 476.06"
      ]
     },
     "execution_count": 34,
     "metadata": {},
     "output_type": "execute_result"
    }
   ],
   "source": [
    "tmp = spy_tabular.get_quotes(interval=\"daily\", periods=365*40)\n",
    "tmp['date'] = pd.to_datetime(tmp['date'])\n",
    "mask = (tmp['date'] > '2020-03-10') & (tmp['date'] <= '2022-06-12')\n",
    "tmp = tmp.loc[mask]\n",
    "pd.DataFrame([tmp.high.describe(), tmp.low.describe()]).T"
   ]
  },
  {
   "cell_type": "code",
   "execution_count": 35,
   "id": "eb8ece06",
   "metadata": {
    "execution": {
     "iopub.execute_input": "2024-07-15T15:48:49.148813Z",
     "iopub.status.busy": "2024-07-15T15:48:49.148408Z",
     "iopub.status.idle": "2024-07-15T15:48:49.519300Z",
     "shell.execute_reply": "2024-07-15T15:48:49.518166Z"
    },
    "papermill": {
     "duration": 0.394619,
     "end_time": "2024-07-15T15:48:49.521869",
     "exception": false,
     "start_time": "2024-07-15T15:48:49.127250",
     "status": "completed"
    },
    "tags": []
   },
   "outputs": [
    {
     "data": {
      "text/html": [
       "<div>\n",
       "<style scoped>\n",
       "    .dataframe tbody tr th:only-of-type {\n",
       "        vertical-align: middle;\n",
       "    }\n",
       "\n",
       "    .dataframe tbody tr th {\n",
       "        vertical-align: top;\n",
       "    }\n",
       "\n",
       "    .dataframe thead th {\n",
       "        text-align: right;\n",
       "    }\n",
       "</style>\n",
       "<table border=\"1\" class=\"dataframe\">\n",
       "  <thead>\n",
       "    <tr style=\"text-align: right;\">\n",
       "      <th></th>\n",
       "      <th>high</th>\n",
       "      <th>low</th>\n",
       "    </tr>\n",
       "  </thead>\n",
       "  <tbody>\n",
       "    <tr>\n",
       "      <th>count</th>\n",
       "      <td>569.00</td>\n",
       "      <td>569.00</td>\n",
       "    </tr>\n",
       "    <tr>\n",
       "      <th>mean</th>\n",
       "      <td>315.57</td>\n",
       "      <td>311.43</td>\n",
       "    </tr>\n",
       "    <tr>\n",
       "      <th>std</th>\n",
       "      <td>40.63</td>\n",
       "      <td>41.49</td>\n",
       "    </tr>\n",
       "    <tr>\n",
       "      <th>min</th>\n",
       "      <td>191.20</td>\n",
       "      <td>182.10</td>\n",
       "    </tr>\n",
       "    <tr>\n",
       "      <th>25%</th>\n",
       "      <td>283.25</td>\n",
       "      <td>278.75</td>\n",
       "    </tr>\n",
       "    <tr>\n",
       "      <th>50%</th>\n",
       "      <td>331.93</td>\n",
       "      <td>326.82</td>\n",
       "    </tr>\n",
       "    <tr>\n",
       "      <th>75%</th>\n",
       "      <td>348.72</td>\n",
       "      <td>345.35</td>\n",
       "    </tr>\n",
       "    <tr>\n",
       "      <th>max</th>\n",
       "      <td>369.50</td>\n",
       "      <td>367.21</td>\n",
       "    </tr>\n",
       "  </tbody>\n",
       "</table>\n",
       "</div>"
      ],
      "text/plain": [
       "        high    low\n",
       "count 569.00 569.00\n",
       "mean  315.57 311.43\n",
       "std    40.63  41.49\n",
       "min   191.20 182.10\n",
       "25%   283.25 278.75\n",
       "50%   331.93 326.82\n",
       "75%   348.72 345.35\n",
       "max   369.50 367.21"
      ]
     },
     "execution_count": 35,
     "metadata": {},
     "output_type": "execute_result"
    }
   ],
   "source": [
    "tmp = dia_tabular.get_quotes(interval=\"daily\", periods=365*40)\n",
    "tmp['date'] = pd.to_datetime(tmp['date'])\n",
    "mask = (tmp['date'] > '2020-03-10') & (tmp['date'] <= '2022-06-12')\n",
    "tmp = tmp.loc[mask]\n",
    "pd.DataFrame([tmp.high.describe(), tmp.low.describe()]).T"
   ]
  },
  {
   "cell_type": "code",
   "execution_count": 36,
   "id": "912cc824",
   "metadata": {
    "execution": {
     "iopub.execute_input": "2024-07-15T15:48:49.563787Z",
     "iopub.status.busy": "2024-07-15T15:48:49.563408Z",
     "iopub.status.idle": "2024-07-15T15:48:49.935481Z",
     "shell.execute_reply": "2024-07-15T15:48:49.934132Z"
    },
    "papermill": {
     "duration": 0.396206,
     "end_time": "2024-07-15T15:48:49.938213",
     "exception": false,
     "start_time": "2024-07-15T15:48:49.542007",
     "status": "completed"
    },
    "tags": []
   },
   "outputs": [
    {
     "data": {
      "text/html": [
       "<div>\n",
       "<style scoped>\n",
       "    .dataframe tbody tr th:only-of-type {\n",
       "        vertical-align: middle;\n",
       "    }\n",
       "\n",
       "    .dataframe tbody tr th {\n",
       "        vertical-align: top;\n",
       "    }\n",
       "\n",
       "    .dataframe thead th {\n",
       "        text-align: right;\n",
       "    }\n",
       "</style>\n",
       "<table border=\"1\" class=\"dataframe\">\n",
       "  <thead>\n",
       "    <tr style=\"text-align: right;\">\n",
       "      <th></th>\n",
       "      <th>high</th>\n",
       "      <th>low</th>\n",
       "    </tr>\n",
       "  </thead>\n",
       "  <tbody>\n",
       "    <tr>\n",
       "      <th>count</th>\n",
       "      <td>569.00</td>\n",
       "      <td>569.00</td>\n",
       "    </tr>\n",
       "    <tr>\n",
       "      <th>mean</th>\n",
       "      <td>318.33</td>\n",
       "      <td>312.46</td>\n",
       "    </tr>\n",
       "    <tr>\n",
       "      <th>std</th>\n",
       "      <td>54.21</td>\n",
       "      <td>54.39</td>\n",
       "    </tr>\n",
       "    <tr>\n",
       "      <th>min</th>\n",
       "      <td>174.21</td>\n",
       "      <td>164.93</td>\n",
       "    </tr>\n",
       "    <tr>\n",
       "      <th>25%</th>\n",
       "      <td>282.88</td>\n",
       "      <td>279.46</td>\n",
       "    </tr>\n",
       "    <tr>\n",
       "      <th>50%</th>\n",
       "      <td>326.46</td>\n",
       "      <td>318.26</td>\n",
       "    </tr>\n",
       "    <tr>\n",
       "      <th>75%</th>\n",
       "      <td>361.50</td>\n",
       "      <td>356.48</td>\n",
       "    </tr>\n",
       "    <tr>\n",
       "      <th>max</th>\n",
       "      <td>408.71</td>\n",
       "      <td>402.58</td>\n",
       "    </tr>\n",
       "  </tbody>\n",
       "</table>\n",
       "</div>"
      ],
      "text/plain": [
       "        high    low\n",
       "count 569.00 569.00\n",
       "mean  318.33 312.46\n",
       "std    54.21  54.39\n",
       "min   174.21 164.93\n",
       "25%   282.88 279.46\n",
       "50%   326.46 318.26\n",
       "75%   361.50 356.48\n",
       "max   408.71 402.58"
      ]
     },
     "execution_count": 36,
     "metadata": {},
     "output_type": "execute_result"
    }
   ],
   "source": [
    "tmp = qqq_tabular.get_quotes(interval=\"daily\", periods=365*40)\n",
    "tmp['date'] = pd.to_datetime(tmp['date'])\n",
    "mask = (tmp['date'] > '2020-03-10') & (tmp['date'] <= '2022-06-12')\n",
    "tmp = tmp.loc[mask]\n",
    "pd.DataFrame([tmp.high.describe(), tmp.low.describe()]).T"
   ]
  },
  {
   "cell_type": "code",
   "execution_count": 37,
   "id": "f0eca9a3",
   "metadata": {
    "execution": {
     "iopub.execute_input": "2024-07-15T15:48:49.983066Z",
     "iopub.status.busy": "2024-07-15T15:48:49.982553Z",
     "iopub.status.idle": "2024-07-15T15:48:50.556767Z",
     "shell.execute_reply": "2024-07-15T15:48:50.555440Z"
    },
    "papermill": {
     "duration": 0.599628,
     "end_time": "2024-07-15T15:48:50.559719",
     "exception": false,
     "start_time": "2024-07-15T15:48:49.960091",
     "status": "completed"
    },
    "tags": []
   },
   "outputs": [],
   "source": [
    "tmp = spy_tabular.get_quotes(interval=\"daily\", periods=365*40)\n",
    "tmp['date'] = pd.to_datetime(tmp['date'])\n",
    "\n",
    "mask = (tmp['date'] > '2020-03-10') & (tmp['date'] <= '2021-12-31')\n",
    "train = tmp.loc[mask]\n",
    "\n",
    "mask = (tmp['date'] > '2021-12-31') & (tmp['date'] <= '2022-06-12')\n",
    "test = tmp.loc[mask]"
   ]
  },
  {
   "cell_type": "code",
   "execution_count": 38,
   "id": "5ad618ce",
   "metadata": {
    "execution": {
     "iopub.execute_input": "2024-07-15T15:48:50.603995Z",
     "iopub.status.busy": "2024-07-15T15:48:50.603580Z",
     "iopub.status.idle": "2024-07-15T15:48:52.378225Z",
     "shell.execute_reply": "2024-07-15T15:48:52.376694Z"
    },
    "papermill": {
     "duration": 1.800304,
     "end_time": "2024-07-15T15:48:52.380970",
     "exception": false,
     "start_time": "2024-07-15T15:48:50.580666",
     "status": "completed"
    },
    "tags": []
   },
   "outputs": [
    {
     "name": "stdout",
     "output_type": "stream",
     "text": [
      "Training set shape:  (458, 2) (458,)\n",
      "Testing set shape:  (111, 2) (111,)\n"
     ]
    }
   ],
   "source": [
    "import pandas as pd\n",
    "import numpy as np\n",
    "from sklearn.model_selection import train_test_split\n",
    "from sklearn.neighbors import KNeighborsRegressor\n",
    "from sklearn.metrics import mean_squared_error\n",
    "\n",
    "\n",
    "# Define features and target\n",
    "X_train = train[['high', 'low']]\n",
    "y_train = (train['high'] + train['low']) / 2  # We'll use the average of high and low as the target\n",
    "\n",
    "X_test = test[['high', 'low']]\n",
    "y_test = (test['high'] + test['low']) / 2  # We'll use the average of high and low as the target\n",
    "\n",
    "# Check the shapes of the splits\n",
    "print(\"Training set shape: \", X_train.shape, y_train.shape)\n",
    "print(\"Testing set shape: \", X_test.shape, y_test.shape)"
   ]
  },
  {
   "cell_type": "code",
   "execution_count": 39,
   "id": "010bd960",
   "metadata": {
    "execution": {
     "iopub.execute_input": "2024-07-15T15:48:52.423565Z",
     "iopub.status.busy": "2024-07-15T15:48:52.423177Z",
     "iopub.status.idle": "2024-07-15T15:48:52.440339Z",
     "shell.execute_reply": "2024-07-15T15:48:52.438997Z"
    },
    "papermill": {
     "duration": 0.04145,
     "end_time": "2024-07-15T15:48:52.442915",
     "exception": false,
     "start_time": "2024-07-15T15:48:52.401465",
     "status": "completed"
    },
    "tags": []
   },
   "outputs": [
    {
     "name": "stdout",
     "output_type": "stream",
     "text": [
      "Root Mean Squared Error: 0.8137107629684961\n",
      "      Actual  Predicted\n",
      "7285  475.85     475.92\n",
      "7286  477.78     477.34\n",
      "7287  473.13     471.84\n",
      "7288  468.12     468.43\n",
      "7289  466.92     467.29\n",
      "...      ...        ...\n",
      "7391  413.58     413.97\n",
      "7392  411.92     413.15\n",
      "7393  413.10     413.11\n",
      "7394  406.59     407.21\n",
      "7395  392.76     393.04\n",
      "\n",
      "[111 rows x 2 columns]\n"
     ]
    }
   ],
   "source": [
    "# Define the KNN model\n",
    "knn = KNeighborsRegressor(n_neighbors=3)\n",
    "\n",
    "# Train the model\n",
    "knn.fit(X_train, y_train)\n",
    "\n",
    "# Predict on the test set\n",
    "y_pred = knn.predict(X_test)\n",
    "\n",
    "# Evaluate the model\n",
    "mse = mean_squared_error(y_test, y_pred)\n",
    "print(f\"Root Mean Squared Error: {np.sqrt(mse)}\")\n",
    "\n",
    "# Display predicted vs actual values\n",
    "results = pd.DataFrame({'Actual': y_test, 'Predicted': y_pred})\n",
    "print(results)"
   ]
  },
  {
   "cell_type": "code",
   "execution_count": 40,
   "id": "3e8995a5",
   "metadata": {
    "execution": {
     "iopub.execute_input": "2024-07-15T15:48:52.486593Z",
     "iopub.status.busy": "2024-07-15T15:48:52.486205Z",
     "iopub.status.idle": "2024-07-15T15:48:52.491704Z",
     "shell.execute_reply": "2024-07-15T15:48:52.490285Z"
    },
    "papermill": {
     "duration": 0.030162,
     "end_time": "2024-07-15T15:48:52.494388",
     "exception": false,
     "start_time": "2024-07-15T15:48:52.464226",
     "status": "completed"
    },
    "tags": []
   },
   "outputs": [],
   "source": [
    "# Wang, J., & Zhang, G. (n.d.). PREDICTING RELATIVE PERFORMANCE OF SECTOR EXCHANGE TRADED FUNDS\n",
    "# USING MACHINE LEARNING. JOURNAL OF BUSINESS AND BEHAVIORAL SCIENCES, 48."
   ]
  },
  {
   "cell_type": "code",
   "execution_count": null,
   "id": "71a872cb",
   "metadata": {
    "papermill": {
     "duration": 0.020197,
     "end_time": "2024-07-15T15:48:52.535836",
     "exception": false,
     "start_time": "2024-07-15T15:48:52.515639",
     "status": "completed"
    },
    "tags": []
   },
   "outputs": [],
   "source": []
  }
 ],
 "metadata": {
  "kaggle": {
   "accelerator": "none",
   "dataSources": [
    {
     "datasetId": 5351768,
     "sourceId": 8902112,
     "sourceType": "datasetVersion"
    }
   ],
   "dockerImageVersionId": 30732,
   "isGpuEnabled": false,
   "isInternetEnabled": true,
   "language": "python",
   "sourceType": "notebook"
  },
  "kernelspec": {
   "display_name": "Python 3",
   "language": "python",
   "name": "python3"
  },
  "language_info": {
   "codemirror_mode": {
    "name": "ipython",
    "version": 3
   },
   "file_extension": ".py",
   "mimetype": "text/x-python",
   "name": "python",
   "nbconvert_exporter": "python",
   "pygments_lexer": "ipython3",
   "version": "3.10.13"
  },
  "papermill": {
   "default_parameters": {},
   "duration": 37.296044,
   "end_time": "2024-07-15T15:48:53.278726",
   "environment_variables": {},
   "exception": null,
   "input_path": "__notebook__.ipynb",
   "output_path": "__notebook__.ipynb",
   "parameters": {},
   "start_time": "2024-07-15T15:48:15.982682",
   "version": "2.5.0"
  }
 },
 "nbformat": 4,
 "nbformat_minor": 5
}
