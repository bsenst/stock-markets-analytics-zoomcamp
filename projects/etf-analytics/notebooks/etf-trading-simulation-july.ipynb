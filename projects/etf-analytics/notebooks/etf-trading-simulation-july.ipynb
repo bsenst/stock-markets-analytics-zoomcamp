{
 "cells": [
  {
   "cell_type": "markdown",
   "id": "df4650d3",
   "metadata": {
    "papermill": {
     "duration": 0.005557,
     "end_time": "2024-07-15T16:12:21.131698",
     "exception": false,
     "start_time": "2024-07-15T16:12:21.126141",
     "status": "completed"
    },
    "tags": []
   },
   "source": [
    "# Load ETF Overview"
   ]
  },
  {
   "cell_type": "code",
   "execution_count": 1,
   "id": "968d363d",
   "metadata": {
    "execution": {
     "iopub.execute_input": "2024-07-15T16:12:21.144633Z",
     "iopub.status.busy": "2024-07-15T16:12:21.144065Z",
     "iopub.status.idle": "2024-07-15T16:12:42.327859Z",
     "shell.execute_reply": "2024-07-15T16:12:42.326338Z"
    },
    "papermill": {
     "duration": 21.19411,
     "end_time": "2024-07-15T16:12:42.331092",
     "exception": false,
     "start_time": "2024-07-15T16:12:21.136982",
     "status": "completed"
    },
    "tags": []
   },
   "outputs": [],
   "source": [
    "! pip install etfpy ta pmdarima -q"
   ]
  },
  {
   "cell_type": "code",
   "execution_count": 2,
   "id": "e4a514bf",
   "metadata": {
    "_cell_guid": "b1076dfc-b9ad-4769-8c92-a6c4dae69d19",
    "_uuid": "8f2839f25d086af736a60e9eeb907d3b93b6e0e5",
    "execution": {
     "iopub.execute_input": "2024-07-15T16:12:42.343670Z",
     "iopub.status.busy": "2024-07-15T16:12:42.343188Z",
     "iopub.status.idle": "2024-07-15T16:12:45.721631Z",
     "shell.execute_reply": "2024-07-15T16:12:45.720566Z"
    },
    "papermill": {
     "duration": 3.38818,
     "end_time": "2024-07-15T16:12:45.724352",
     "exception": false,
     "start_time": "2024-07-15T16:12:42.336172",
     "status": "completed"
    },
    "tags": []
   },
   "outputs": [],
   "source": [
    "import numpy as np\n",
    "import pandas as pd\n",
    "\n",
    "import ta\n",
    "from etfpy import ETF, load_etf, get_available_etfs_list\n",
    "\n",
    "import joblib\n",
    "from sklearn.metrics import mean_squared_error\n",
    "\n",
    "import matplotlib.pyplot as plt\n",
    "import seaborn as sns\n",
    "\n",
    "import warnings \n",
    "warnings.filterwarnings('ignore')\n",
    "\n",
    "import logging \n",
    "logger = logging.getLogger() \n",
    "logger.setLevel(logging.CRITICAL)"
   ]
  },
  {
   "cell_type": "markdown",
   "id": "10afbd86",
   "metadata": {
    "papermill": {
     "duration": 0.004765,
     "end_time": "2024-07-15T16:12:45.734584",
     "exception": false,
     "start_time": "2024-07-15T16:12:45.729819",
     "status": "completed"
    },
    "tags": []
   },
   "source": [
    "# Get Specific ETF Data"
   ]
  },
  {
   "cell_type": "code",
   "execution_count": 3,
   "id": "f3c61201",
   "metadata": {
    "execution": {
     "iopub.execute_input": "2024-07-15T16:12:45.747017Z",
     "iopub.status.busy": "2024-07-15T16:12:45.746079Z",
     "iopub.status.idle": "2024-07-15T16:12:47.089570Z",
     "shell.execute_reply": "2024-07-15T16:12:47.088062Z"
    },
    "papermill": {
     "duration": 1.353017,
     "end_time": "2024-07-15T16:12:47.092703",
     "exception": false,
     "start_time": "2024-07-15T16:12:45.739686",
     "status": "completed"
    },
    "tags": []
   },
   "outputs": [],
   "source": [
    "spy = ETF(\"SPY\")\n",
    "spy_tabular = spy.to_tabular()\n",
    "data = spy_tabular.get_quotes(interval=\"daily\", periods=365*40)"
   ]
  },
  {
   "cell_type": "code",
   "execution_count": 4,
   "id": "18ecbf15",
   "metadata": {
    "execution": {
     "iopub.execute_input": "2024-07-15T16:12:47.104921Z",
     "iopub.status.busy": "2024-07-15T16:12:47.104508Z",
     "iopub.status.idle": "2024-07-15T16:12:47.113616Z",
     "shell.execute_reply": "2024-07-15T16:12:47.112371Z"
    },
    "papermill": {
     "duration": 0.018618,
     "end_time": "2024-07-15T16:12:47.116326",
     "exception": false,
     "start_time": "2024-07-15T16:12:47.097708",
     "status": "completed"
    },
    "tags": []
   },
   "outputs": [],
   "source": [
    "data[\"date\"] = pd.to_datetime(data.date)"
   ]
  },
  {
   "cell_type": "code",
   "execution_count": 5,
   "id": "aa985341",
   "metadata": {
    "execution": {
     "iopub.execute_input": "2024-07-15T16:12:47.128384Z",
     "iopub.status.busy": "2024-07-15T16:12:47.127593Z",
     "iopub.status.idle": "2024-07-15T16:12:47.264458Z",
     "shell.execute_reply": "2024-07-15T16:12:47.263285Z"
    },
    "papermill": {
     "duration": 0.145884,
     "end_time": "2024-07-15T16:12:47.267399",
     "exception": false,
     "start_time": "2024-07-15T16:12:47.121515",
     "status": "completed"
    },
    "tags": []
   },
   "outputs": [],
   "source": [
    "data.to_csv(\"data.csv.zip\", compression=\"zip\")"
   ]
  },
  {
   "cell_type": "markdown",
   "id": "ac7d8c5b",
   "metadata": {
    "papermill": {
     "duration": 0.004566,
     "end_time": "2024-07-15T16:12:47.277026",
     "exception": false,
     "start_time": "2024-07-15T16:12:47.272460",
     "status": "completed"
    },
    "tags": []
   },
   "source": [
    "# ARIMA Trading Simulation"
   ]
  },
  {
   "cell_type": "code",
   "execution_count": 6,
   "id": "f64133f0",
   "metadata": {
    "execution": {
     "iopub.execute_input": "2024-07-15T16:12:47.288579Z",
     "iopub.status.busy": "2024-07-15T16:12:47.288148Z",
     "iopub.status.idle": "2024-07-15T16:12:47.300094Z",
     "shell.execute_reply": "2024-07-15T16:12:47.298900Z"
    },
    "papermill": {
     "duration": 0.021308,
     "end_time": "2024-07-15T16:12:47.303130",
     "exception": false,
     "start_time": "2024-07-15T16:12:47.281822",
     "status": "completed"
    },
    "tags": []
   },
   "outputs": [],
   "source": [
    "tmp = data.iloc[100:].set_index('date')\n",
    "tmp_train = data.iloc[100:-1000].set_index('date')\n",
    "tmp_test = data.iloc[-1000:].set_index('date')"
   ]
  },
  {
   "cell_type": "code",
   "execution_count": 7,
   "id": "04602d7b",
   "metadata": {
    "execution": {
     "iopub.execute_input": "2024-07-15T16:12:47.315152Z",
     "iopub.status.busy": "2024-07-15T16:12:47.314686Z",
     "iopub.status.idle": "2024-07-15T16:12:49.577701Z",
     "shell.execute_reply": "2024-07-15T16:12:49.576390Z"
    },
    "papermill": {
     "duration": 2.273711,
     "end_time": "2024-07-15T16:12:49.582023",
     "exception": false,
     "start_time": "2024-07-15T16:12:47.308312",
     "status": "completed"
    },
    "tags": []
   },
   "outputs": [],
   "source": [
    "from statsmodels.tsa.arima.model import ARIMA\n",
    "\n",
    "prices = tmp_train.close.copy().values\n",
    "p, d, q = 5, 1, 0\n",
    "order = (p, d, q)  # Replace with your ARIMA model parameters\n",
    "model = ARIMA(prices, order=order)\n",
    "fitted_model = model.fit()\n",
    "\n",
    "forecast_steps = 100  # Number of future days to forecast\n",
    "forecast = fitted_model.forecast(steps=forecast_steps)"
   ]
  },
  {
   "cell_type": "code",
   "execution_count": 8,
   "id": "8fc08a2d",
   "metadata": {
    "execution": {
     "iopub.execute_input": "2024-07-15T16:12:49.599649Z",
     "iopub.status.busy": "2024-07-15T16:12:49.598056Z",
     "iopub.status.idle": "2024-07-15T16:12:49.629108Z",
     "shell.execute_reply": "2024-07-15T16:12:49.627699Z"
    },
    "papermill": {
     "duration": 0.043509,
     "end_time": "2024-07-15T16:12:49.633174",
     "exception": false,
     "start_time": "2024-07-15T16:12:49.589665",
     "status": "completed"
    },
    "tags": []
   },
   "outputs": [],
   "source": [
    "capital = 10000  # Initial capital\n",
    "positions = 0  # Number of shares held\n",
    "transaction_log = []\n",
    "\n",
    "for i in range(forecast_steps):\n",
    "    current_price = tmp_test.close.iloc[i]\n",
    "    predicted_price = forecast[i]\n",
    "    \n",
    "    if predicted_price > current_price:\n",
    "        if positions == 0:  # Buy\n",
    "            positions = capital // current_price\n",
    "            capital -= positions * current_price\n",
    "            transaction_log.append(('Buy', positions, tmp_test.index[i], current_price))\n",
    "    elif predicted_price < current_price:\n",
    "        if positions > 0:  # Sell\n",
    "            capital += positions * current_price\n",
    "            positions = 0\n",
    "            transaction_log.append(('Sell', positions, tmp_test.index[i], current_price))\n",
    "    else:\n",
    "        transaction_log.append(('Hold', positions, tmp_test.index[i], current_price))\n",
    "\n",
    "# Calculate final capital based on the remaining positions\n",
    "if positions > 0:\n",
    "    capital += positions * pd.Series(prices).iloc[-1]"
   ]
  },
  {
   "cell_type": "code",
   "execution_count": 9,
   "id": "9b890fc4",
   "metadata": {
    "execution": {
     "iopub.execute_input": "2024-07-15T16:12:49.654357Z",
     "iopub.status.busy": "2024-07-15T16:12:49.653540Z",
     "iopub.status.idle": "2024-07-15T16:12:50.188903Z",
     "shell.execute_reply": "2024-07-15T16:12:50.187639Z"
    },
    "papermill": {
     "duration": 0.551311,
     "end_time": "2024-07-15T16:12:50.192947",
     "exception": false,
     "start_time": "2024-07-15T16:12:49.641636",
     "status": "completed"
    },
    "tags": []
   },
   "outputs": [
    {
     "name": "stdout",
     "output_type": "stream",
     "text": [
      "Final Capital: $10477.15\n"
     ]
    },
    {
     "data": {
      "image/png": "[encoded data removed]",
      "text/plain": [
       "<Figure size 1200x600 with 1 Axes>"
      ]
     },
     "metadata": {},
     "output_type": "display_data"
    }
   ],
   "source": [
    "print(f'Final Capital: ${capital:.2f}')\n",
    "\n",
    "# Plot transactions\n",
    "dates = [x[2] for x in transaction_log]\n",
    "actions = [x[0] for x in transaction_log]\n",
    "\n",
    "plt.figure(figsize=(12, 6))\n",
    "plt.plot(tmp_train.index[-100:], prices[-100:])\n",
    "plt.plot(tmp_test.index[:len(forecast)], tmp_test.close.values[:len(forecast)])\n",
    "plt.plot(tmp_test.index[:len(forecast)], forecast)\n",
    "for i in range(len(actions)):\n",
    "    if actions[i] == 'Buy':\n",
    "        plt.scatter(dates[i], transaction_log[i][-1], marker='^', color='g')\n",
    "    elif actions[i] == 'Sell':\n",
    "        plt.scatter(dates[i], transaction_log[i][-1], marker='v', color='r')\n",
    "\n",
    "plt.legend(['Training Data', 'Actual', 'Forecast', 'Buy', 'Sell'])\n",
    "plt.show()"
   ]
  }
 ],
 "metadata": {
  "kaggle": {
   "accelerator": "none",
   "dataSources": [
    {
     "datasetId": 5351768,
     "sourceId": 8902112,
     "sourceType": "datasetVersion"
    },
    {
     "sourceId": 188284623,
     "sourceType": "kernelVersion"
    },
    {
     "sourceId": 188319632,
     "sourceType": "kernelVersion"
    },
    {
     "sourceId": 188409487,
     "sourceType": "kernelVersion"
    }
   ],
   "dockerImageVersionId": 30732,
   "isGpuEnabled": false,
   "isInternetEnabled": true,
   "language": "python",
   "sourceType": "notebook"
  },
  "kernelspec": {
   "display_name": "Python 3",
   "language": "python",
   "name": "python3"
  },
  "language_info": {
   "codemirror_mode": {
    "name": "ipython",
    "version": 3
   },
   "file_extension": ".py",
   "mimetype": "text/x-python",
   "name": "python",
   "nbconvert_exporter": "python",
   "pygments_lexer": "ipython3",
   "version": "3.10.13"
  },
  "papermill": {
   "default_parameters": {},
   "duration": 33.131631,
   "end_time": "2024-07-15T16:12:50.925002",
   "environment_variables": {},
   "exception": null,
   "input_path": "__notebook__.ipynb",
   "output_path": "__notebook__.ipynb",
   "parameters": {},
   "start_time": "2024-07-15T16:12:17.793371",
   "version": "2.5.0"
  }
 },
 "nbformat": 4,
 "nbformat_minor": 5
}
